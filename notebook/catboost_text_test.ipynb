{
 "cells": [
  {
   "cell_type": "code",
   "execution_count": 1,
   "metadata": {},
   "outputs": [
    {
     "name": "stdout",
     "output_type": "stream",
     "text": [
      "INFO: Pandarallel will run on 32 workers.\n",
      "INFO: Pandarallel will use Memory file system to transfer data between the main process and workers.\n"
     ]
    },
    {
     "name": "stderr",
     "output_type": "stream",
     "text": [
      "[nltk_data] Downloading package punkt to /home/gleb/nltk_data...\n",
      "[nltk_data]   Package punkt is already up-to-date!\n"
     ]
    }
   ],
   "source": [
    "import numpy as np\n",
    "import pandas as pd\n",
    "import random\n",
    "\n",
    "import torch\n",
    "import optuna\n",
    "import nltk\n",
    "from catboost import CatBoostClassifier, Pool, cv\n",
    "from sklearn.model_selection import train_test_split, StratifiedKFold\n",
    "from sklearn.metrics import (\n",
    "    f1_score,\n",
    "    roc_auc_score,\n",
    "    accuracy_score,\n",
    "    precision_score,\n",
    "    recall_score,\n",
    ")\n",
    "from optuna.integration import CatBoostPruningCallback\n",
    "from nltk.corpus import stopwords\n",
    "from pandarallel import pandarallel\n",
    "from transformers import AutoModel, AutoTokenizer, AutoModelForSequenceClassification\n",
    "from transformers import pipeline\n",
    "from transformers import Trainer, TrainingArguments\n",
    "\n",
    "\n",
    "\n",
    "RANDOM_SEED = 121\n",
    "\n",
    "def seed_all(seed_value):\n",
    "    random.seed(seed_value)\n",
    "    np.random.seed(seed_value)\n",
    "    torch.manual_seed(seed_value)\n",
    "    if torch.cuda.is_available():\n",
    "        torch.cuda.manual_seed(seed_value)\n",
    "        torch.cuda.manual_seed_all(seed_value)\n",
    "        torch.backends.cudnn.benchmark = True\n",
    "        torch.backends.cudnn.deterministic = False\n",
    "seed_all(RANDOM_SEED)\n",
    "\n",
    "nltk.download(\"punkt\")\n",
    "stop_words = stopwords.words(\"english\")\n",
    "\n",
    "pandarallel.initialize(progress_bar=False)"
   ]
  },
  {
   "attachments": {},
   "cell_type": "markdown",
   "metadata": {},
   "source": [
    "## Catboost + text_features"
   ]
  },
  {
   "cell_type": "code",
   "execution_count": 2,
   "metadata": {},
   "outputs": [
    {
     "data": {
      "text/html": [
       "<div>\n",
       "<style scoped>\n",
       "    .dataframe tbody tr th:only-of-type {\n",
       "        vertical-align: middle;\n",
       "    }\n",
       "\n",
       "    .dataframe tbody tr th {\n",
       "        vertical-align: top;\n",
       "    }\n",
       "\n",
       "    .dataframe thead th {\n",
       "        text-align: right;\n",
       "    }\n",
       "</style>\n",
       "<table border=\"1\" class=\"dataframe\">\n",
       "  <thead>\n",
       "    <tr style=\"text-align: right;\">\n",
       "      <th></th>\n",
       "      <th>name</th>\n",
       "      <th>file_name</th>\n",
       "      <th>num_file</th>\n",
       "      <th>level</th>\n",
       "      <th>text</th>\n",
       "      <th>stemmer</th>\n",
       "      <th>lemm</th>\n",
       "      <th>no_stop</th>\n",
       "      <th>stop_stremm</th>\n",
       "      <th>stop_lemm</th>\n",
       "    </tr>\n",
       "  </thead>\n",
       "  <tbody>\n",
       "    <tr>\n",
       "      <th>2942</th>\n",
       "      <td>Apocalypse Now</td>\n",
       "      <td>Apocalypse Now Redux (1979) UHD 4K BRD 2160p F...</td>\n",
       "      <td>False</td>\n",
       "      <td>hard</td>\n",
       "      <td>This is the end Beautiful friend This is the e...</td>\n",
       "      <td>thi end beauti friend thi end my friend the en...</td>\n",
       "      <td>This end Beautiful friend This end My friend T...</td>\n",
       "      <td>This end Beautiful friend This end My friend T...</td>\n",
       "      <td>thi is the end beauti friend thi is the end my...</td>\n",
       "      <td>This is the end Beautiful friend This is the e...</td>\n",
       "    </tr>\n",
       "  </tbody>\n",
       "</table>\n",
       "</div>"
      ],
      "text/plain": [
       "                name                                          file_name  \\\n",
       "2942  Apocalypse Now  Apocalypse Now Redux (1979) UHD 4K BRD 2160p F...   \n",
       "\n",
       "      num_file level                                               text  \\\n",
       "2942     False  hard  This is the end Beautiful friend This is the e...   \n",
       "\n",
       "                                                stemmer  \\\n",
       "2942  thi end beauti friend thi end my friend the en...   \n",
       "\n",
       "                                                   lemm  \\\n",
       "2942  This end Beautiful friend This end My friend T...   \n",
       "\n",
       "                                                no_stop  \\\n",
       "2942  This end Beautiful friend This end My friend T...   \n",
       "\n",
       "                                            stop_stremm  \\\n",
       "2942  thi is the end beauti friend thi is the end my...   \n",
       "\n",
       "                                              stop_lemm  \n",
       "2942  This is the end Beautiful friend This is the e...  "
      ]
     },
     "execution_count": 2,
     "metadata": {},
     "output_type": "execute_result"
    }
   ],
   "source": [
    "catboost_text_result = []\n",
    "\n",
    "df = pd.read_csv(\"../data/interim/df_preprocessed_text.csv\", low_memory=False)\n",
    "df.sample(1)"
   ]
  },
  {
   "cell_type": "code",
   "execution_count": 3,
   "metadata": {},
   "outputs": [],
   "source": [
    "train_df, test_df = train_test_split(df, train_size=0.8, random_state=0)\n",
    "y_train, X_train = train_df[\"level\"], train_df.drop([\"level\"], axis=1)\n",
    "y_test, X_test = test_df[\"level\"], test_df.drop([\"level\"], axis=1)"
   ]
  },
  {
   "cell_type": "code",
   "execution_count": 4,
   "metadata": {},
   "outputs": [],
   "source": [
    "N_SPLITS = 5\n",
    "\n",
    "\n",
    "def train_cv(cols: list) -> pd.DataFrame:\n",
    "    skf = StratifiedKFold(n_splits=N_SPLITS, shuffle=True, random_state=RANDOM_SEED)\n",
    "    i = 0\n",
    "    mean_score = {}\n",
    "    for train_fold, val_fold in skf.split(X_train, y_train):\n",
    "        cat = CatBoostClassifier(\n",
    "            task_type=\"GPU\",\n",
    "            devices=\"0\",\n",
    "            iterations=10000,\n",
    "            early_stopping_rounds=300,\n",
    "            loss_function=\"MultiClass\",\n",
    "            l2_leaf_reg=11,\n",
    "            auto_class_weights=\"Balanced\",\n",
    "            eval_metric=\"AUC\",\n",
    "            random_seed=RANDOM_SEED,\n",
    "            verbose=0,\n",
    "        )\n",
    "\n",
    "        train_dataset = Pool(\n",
    "            data=X_train.iloc[train_fold][cols],\n",
    "            label=y_train.iloc[train_fold],\n",
    "            text_features=cols,\n",
    "        )\n",
    "\n",
    "        eval_dataset = Pool(\n",
    "            data=X_train.iloc[val_fold][cols],\n",
    "            label=y_train.iloc[val_fold],\n",
    "            text_features=cols,\n",
    "        )\n",
    "\n",
    "        fit_model = cat.fit(\n",
    "            train_dataset, eval_set=eval_dataset, use_best_model=True, plot=False\n",
    "        )\n",
    "\n",
    "        roc_auc = roc_auc_score(\n",
    "            y_train.iloc[val_fold],\n",
    "            fit_model.predict_proba(X_train.iloc[val_fold][cols]),\n",
    "            average=\"macro\",\n",
    "            multi_class=\"ovo\",\n",
    "        )\n",
    "\n",
    "        f1 = f1_score(\n",
    "            y_train.iloc[val_fold],\n",
    "            fit_model.predict(X_train.iloc[val_fold][cols]),\n",
    "            average=\"macro\",\n",
    "        )\n",
    "\n",
    "        precision = precision_score(\n",
    "            y_train.iloc[val_fold],\n",
    "            fit_model.predict(X_train.iloc[val_fold][cols]),\n",
    "            average=\"macro\",\n",
    "        )\n",
    "\n",
    "        recall = recall_score(\n",
    "            y_train.iloc[val_fold],\n",
    "            fit_model.predict(X_train.iloc[val_fold][cols]),\n",
    "            average=\"macro\",\n",
    "        )\n",
    "\n",
    "        accuracy = accuracy_score(\n",
    "            y_train.iloc[val_fold], fit_model.predict(X_train.iloc[val_fold][cols])\n",
    "        )\n",
    "\n",
    "        for score, value_score in zip(\n",
    "            [\"roc_auc\", \"f1\", \"precision\", \"recall\", \"accuracy\"],\n",
    "            [roc_auc, f1, precision, recall, accuracy],\n",
    "        ):\n",
    "            mean_score[score] = mean_score.get(score, 0) + value_score / N_SPLITS\n",
    "            print(f\"fold: {i + 1} {score}: {value_score}\")\n",
    "\n",
    "        print()\n",
    "        i += 1\n",
    "    return pd.DataFrame(mean_score, index=[cols])"
   ]
  },
  {
   "cell_type": "code",
   "execution_count": 5,
   "metadata": {},
   "outputs": [
    {
     "name": "stderr",
     "output_type": "stream",
     "text": [
      "Default metric period is 5 because AUC is/are not implemented for GPU\n",
      "AUC is not implemented on GPU. Will use CPU for metric computation, this could significantly affect learning time\n"
     ]
    },
    {
     "name": "stdout",
     "output_type": "stream",
     "text": [
      "fold: 1 roc_auc: 0.733781703807803\n",
      "fold: 1 f1: 0.47111216728859323\n",
      "fold: 1 precision: 0.477055612650411\n",
      "fold: 1 recall: 0.5328925572606616\n",
      "fold: 1 accuracy: 0.47644927536231885\n",
      "\n"
     ]
    },
    {
     "name": "stderr",
     "output_type": "stream",
     "text": [
      "Default metric period is 5 because AUC is/are not implemented for GPU\n",
      "AUC is not implemented on GPU. Will use CPU for metric computation, this could significantly affect learning time\n"
     ]
    },
    {
     "name": "stdout",
     "output_type": "stream",
     "text": [
      "fold: 2 roc_auc: 0.7201593771688221\n",
      "fold: 2 f1: 0.44787633741280614\n",
      "fold: 2 precision: 0.47015606899744683\n",
      "fold: 2 recall: 0.5326113388178448\n",
      "fold: 2 accuracy: 0.45108695652173914\n",
      "\n"
     ]
    },
    {
     "name": "stderr",
     "output_type": "stream",
     "text": [
      "Default metric period is 5 because AUC is/are not implemented for GPU\n",
      "AUC is not implemented on GPU. Will use CPU for metric computation, this could significantly affect learning time\n"
     ]
    },
    {
     "name": "stdout",
     "output_type": "stream",
     "text": [
      "fold: 3 roc_auc: 0.7536957561651968\n",
      "fold: 3 f1: 0.5113250405828479\n",
      "fold: 3 precision: 0.5176069010180672\n",
      "fold: 3 recall: 0.573656570754978\n",
      "fold: 3 accuracy: 0.5181159420289855\n",
      "\n"
     ]
    },
    {
     "name": "stderr",
     "output_type": "stream",
     "text": [
      "Default metric period is 5 because AUC is/are not implemented for GPU\n",
      "AUC is not implemented on GPU. Will use CPU for metric computation, this could significantly affect learning time\n"
     ]
    },
    {
     "name": "stdout",
     "output_type": "stream",
     "text": [
      "fold: 4 roc_auc: 0.715671460381358\n",
      "fold: 4 f1: 0.4947251655197991\n",
      "fold: 4 precision: 0.4884680134680135\n",
      "fold: 4 recall: 0.5253107986108774\n",
      "fold: 4 accuracy: 0.5072463768115942\n",
      "\n"
     ]
    },
    {
     "name": "stderr",
     "output_type": "stream",
     "text": [
      "Default metric period is 5 because AUC is/are not implemented for GPU\n",
      "AUC is not implemented on GPU. Will use CPU for metric computation, this could significantly affect learning time\n"
     ]
    },
    {
     "name": "stdout",
     "output_type": "stream",
     "text": [
      "fold: 5 roc_auc: 0.738712857590088\n",
      "fold: 5 f1: 0.43182780267062726\n",
      "fold: 5 precision: 0.44877041242647103\n",
      "fold: 5 recall: 0.5390538519703331\n",
      "fold: 5 accuracy: 0.4355716878402904\n",
      "\n"
     ]
    }
   ],
   "source": [
    "catboost_text_result.append(train_cv([\"text\"]))"
   ]
  },
  {
   "cell_type": "code",
   "execution_count": 6,
   "metadata": {},
   "outputs": [
    {
     "name": "stderr",
     "output_type": "stream",
     "text": [
      "Default metric period is 5 because AUC is/are not implemented for GPU\n",
      "AUC is not implemented on GPU. Will use CPU for metric computation, this could significantly affect learning time\n"
     ]
    },
    {
     "name": "stdout",
     "output_type": "stream",
     "text": [
      "fold: 1 roc_auc: 0.7438861305921302\n",
      "fold: 1 f1: 0.5173683461890705\n",
      "fold: 1 precision: 0.5129795243342734\n",
      "fold: 1 recall: 0.5603547412752731\n",
      "fold: 1 accuracy: 0.5271739130434783\n",
      "\n"
     ]
    },
    {
     "name": "stderr",
     "output_type": "stream",
     "text": [
      "Default metric period is 5 because AUC is/are not implemented for GPU\n",
      "AUC is not implemented on GPU. Will use CPU for metric computation, this could significantly affect learning time\n"
     ]
    },
    {
     "name": "stdout",
     "output_type": "stream",
     "text": [
      "fold: 2 roc_auc: 0.7395914587793165\n",
      "fold: 2 f1: 0.5486402502941625\n",
      "fold: 2 precision: 0.5732510288065843\n",
      "fold: 2 recall: 0.536404253767312\n",
      "fold: 2 accuracy: 0.605072463768116\n",
      "\n"
     ]
    },
    {
     "name": "stderr",
     "output_type": "stream",
     "text": [
      "Default metric period is 5 because AUC is/are not implemented for GPU\n",
      "AUC is not implemented on GPU. Will use CPU for metric computation, this could significantly affect learning time\n"
     ]
    },
    {
     "name": "stdout",
     "output_type": "stream",
     "text": [
      "fold: 3 roc_auc: 0.764015696476494\n",
      "fold: 3 f1: 0.5408254891833301\n",
      "fold: 3 precision: 0.5359631273893205\n",
      "fold: 3 recall: 0.5769647619258683\n",
      "fold: 3 accuracy: 0.5579710144927537\n",
      "\n"
     ]
    },
    {
     "name": "stderr",
     "output_type": "stream",
     "text": [
      "Default metric period is 5 because AUC is/are not implemented for GPU\n",
      "AUC is not implemented on GPU. Will use CPU for metric computation, this could significantly affect learning time\n"
     ]
    },
    {
     "name": "stdout",
     "output_type": "stream",
     "text": [
      "fold: 4 roc_auc: 0.7206580755281201\n",
      "fold: 4 f1: 0.49239398926744166\n",
      "fold: 4 precision: 0.4868827160493827\n",
      "fold: 4 recall: 0.5232765552271984\n",
      "fold: 4 accuracy: 0.5054347826086957\n",
      "\n"
     ]
    },
    {
     "name": "stderr",
     "output_type": "stream",
     "text": [
      "Default metric period is 5 because AUC is/are not implemented for GPU\n",
      "AUC is not implemented on GPU. Will use CPU for metric computation, this could significantly affect learning time\n"
     ]
    },
    {
     "name": "stdout",
     "output_type": "stream",
     "text": [
      "fold: 5 roc_auc: 0.7610104243698245\n",
      "fold: 5 f1: 0.444981146829045\n",
      "fold: 5 precision: 0.4664818572936115\n",
      "fold: 5 recall: 0.5574480946618492\n",
      "fold: 5 accuracy: 0.4482758620689655\n",
      "\n"
     ]
    }
   ],
   "source": [
    "catboost_text_result.append(train_cv([\"no_stop\"]))"
   ]
  },
  {
   "cell_type": "code",
   "execution_count": 7,
   "metadata": {},
   "outputs": [
    {
     "name": "stderr",
     "output_type": "stream",
     "text": [
      "Default metric period is 5 because AUC is/are not implemented for GPU\n",
      "AUC is not implemented on GPU. Will use CPU for metric computation, this could significantly affect learning time\n"
     ]
    },
    {
     "name": "stdout",
     "output_type": "stream",
     "text": [
      "fold: 1 roc_auc: 0.7480846693089168\n",
      "fold: 1 f1: 0.5051721595803295\n",
      "fold: 1 precision: 0.5113247863247863\n",
      "fold: 1 recall: 0.5672697824767825\n",
      "fold: 1 accuracy: 0.5108695652173914\n",
      "\n"
     ]
    },
    {
     "name": "stderr",
     "output_type": "stream",
     "text": [
      "Default metric period is 5 because AUC is/are not implemented for GPU\n",
      "AUC is not implemented on GPU. Will use CPU for metric computation, this could significantly affect learning time\n"
     ]
    },
    {
     "name": "stdout",
     "output_type": "stream",
     "text": [
      "fold: 2 roc_auc: 0.7140033249945296\n",
      "fold: 2 f1: 0.4866226509981541\n",
      "fold: 2 precision: 0.4923074551680411\n",
      "fold: 2 recall: 0.533896597332034\n",
      "fold: 2 accuracy: 0.5036231884057971\n",
      "\n"
     ]
    },
    {
     "name": "stderr",
     "output_type": "stream",
     "text": [
      "Default metric period is 5 because AUC is/are not implemented for GPU\n",
      "AUC is not implemented on GPU. Will use CPU for metric computation, this could significantly affect learning time\n"
     ]
    },
    {
     "name": "stdout",
     "output_type": "stream",
     "text": [
      "fold: 3 roc_auc: 0.7590961500394764\n",
      "fold: 3 f1: 0.5456729438500552\n",
      "fold: 3 precision: 0.5387253208007925\n",
      "fold: 3 recall: 0.5794317904454958\n",
      "fold: 3 accuracy: 0.5634057971014492\n",
      "\n"
     ]
    },
    {
     "name": "stderr",
     "output_type": "stream",
     "text": [
      "Default metric period is 5 because AUC is/are not implemented for GPU\n",
      "AUC is not implemented on GPU. Will use CPU for metric computation, this could significantly affect learning time\n"
     ]
    },
    {
     "name": "stdout",
     "output_type": "stream",
     "text": [
      "fold: 4 roc_auc: 0.7215830103989725\n",
      "fold: 4 f1: 0.5007199176194765\n",
      "fold: 4 precision: 0.49709168087524863\n",
      "fold: 4 recall: 0.5362363393342653\n",
      "fold: 4 accuracy: 0.5126811594202898\n",
      "\n"
     ]
    },
    {
     "name": "stderr",
     "output_type": "stream",
     "text": [
      "Default metric period is 5 because AUC is/are not implemented for GPU\n",
      "AUC is not implemented on GPU. Will use CPU for metric computation, this could significantly affect learning time\n"
     ]
    },
    {
     "name": "stdout",
     "output_type": "stream",
     "text": [
      "fold: 5 roc_auc: 0.7498718897962559\n",
      "fold: 5 f1: 0.5104308802549903\n",
      "fold: 5 precision: 0.5046520742009464\n",
      "fold: 5 recall: 0.5489027753416355\n",
      "fold: 5 accuracy: 0.5245009074410163\n",
      "\n"
     ]
    }
   ],
   "source": [
    "catboost_text_result.append(train_cv([\"stemmer\"]))"
   ]
  },
  {
   "cell_type": "code",
   "execution_count": 8,
   "metadata": {},
   "outputs": [
    {
     "name": "stderr",
     "output_type": "stream",
     "text": [
      "Default metric period is 5 because AUC is/are not implemented for GPU\n",
      "AUC is not implemented on GPU. Will use CPU for metric computation, this could significantly affect learning time\n"
     ]
    },
    {
     "name": "stdout",
     "output_type": "stream",
     "text": [
      "fold: 1 roc_auc: 0.7575611668911151\n",
      "fold: 1 f1: 0.5384483281420257\n",
      "fold: 1 precision: 0.5412947959381548\n",
      "fold: 1 recall: 0.5918454170792833\n",
      "fold: 1 accuracy: 0.5489130434782609\n",
      "\n"
     ]
    },
    {
     "name": "stderr",
     "output_type": "stream",
     "text": [
      "Default metric period is 5 because AUC is/are not implemented for GPU\n",
      "AUC is not implemented on GPU. Will use CPU for metric computation, this could significantly affect learning time\n"
     ]
    },
    {
     "name": "stdout",
     "output_type": "stream",
     "text": [
      "fold: 2 roc_auc: 0.720750800607853\n",
      "fold: 2 f1: 0.5121532483961326\n",
      "fold: 2 precision: 0.5074456127762971\n",
      "fold: 2 recall: 0.5189757031776933\n",
      "fold: 2 accuracy: 0.5489130434782609\n",
      "\n"
     ]
    },
    {
     "name": "stderr",
     "output_type": "stream",
     "text": [
      "Default metric period is 5 because AUC is/are not implemented for GPU\n",
      "AUC is not implemented on GPU. Will use CPU for metric computation, this could significantly affect learning time\n"
     ]
    },
    {
     "name": "stdout",
     "output_type": "stream",
     "text": [
      "fold: 3 roc_auc: 0.7545240288788876\n",
      "fold: 3 f1: 0.5356011998604376\n",
      "fold: 3 precision: 0.5273769885312616\n",
      "fold: 3 recall: 0.5712878374318059\n",
      "fold: 3 accuracy: 0.5471014492753623\n",
      "\n"
     ]
    },
    {
     "name": "stderr",
     "output_type": "stream",
     "text": [
      "Default metric period is 5 because AUC is/are not implemented for GPU\n",
      "AUC is not implemented on GPU. Will use CPU for metric computation, this could significantly affect learning time\n"
     ]
    },
    {
     "name": "stdout",
     "output_type": "stream",
     "text": [
      "fold: 4 roc_auc: 0.718101190836817\n",
      "fold: 4 f1: 0.503789918001278\n",
      "fold: 4 precision: 0.5006784260515604\n",
      "fold: 4 recall: 0.5432789636780185\n",
      "fold: 4 accuracy: 0.5144927536231884\n",
      "\n"
     ]
    },
    {
     "name": "stderr",
     "output_type": "stream",
     "text": [
      "Default metric period is 5 because AUC is/are not implemented for GPU\n",
      "AUC is not implemented on GPU. Will use CPU for metric computation, this could significantly affect learning time\n"
     ]
    },
    {
     "name": "stdout",
     "output_type": "stream",
     "text": [
      "fold: 5 roc_auc: 0.7521999972921947\n",
      "fold: 5 f1: 0.522401698345897\n",
      "fold: 5 precision: 0.5139112100977634\n",
      "fold: 5 recall: 0.55436217985591\n",
      "fold: 5 accuracy: 0.5372050816696915\n",
      "\n"
     ]
    }
   ],
   "source": [
    "catboost_text_result.append(train_cv([\"stop_stremm\"]))"
   ]
  },
  {
   "cell_type": "code",
   "execution_count": 9,
   "metadata": {},
   "outputs": [
    {
     "name": "stderr",
     "output_type": "stream",
     "text": [
      "Default metric period is 5 because AUC is/are not implemented for GPU\n",
      "AUC is not implemented on GPU. Will use CPU for metric computation, this could significantly affect learning time\n"
     ]
    },
    {
     "name": "stdout",
     "output_type": "stream",
     "text": [
      "fold: 1 roc_auc: 0.7438861305921302\n",
      "fold: 1 f1: 0.5173683461890705\n",
      "fold: 1 precision: 0.5129795243342734\n",
      "fold: 1 recall: 0.5603547412752731\n",
      "fold: 1 accuracy: 0.5271739130434783\n",
      "\n"
     ]
    },
    {
     "name": "stderr",
     "output_type": "stream",
     "text": [
      "Default metric period is 5 because AUC is/are not implemented for GPU\n",
      "AUC is not implemented on GPU. Will use CPU for metric computation, this could significantly affect learning time\n"
     ]
    },
    {
     "name": "stdout",
     "output_type": "stream",
     "text": [
      "fold: 2 roc_auc: 0.7395914587793165\n",
      "fold: 2 f1: 0.5486402502941625\n",
      "fold: 2 precision: 0.5732510288065843\n",
      "fold: 2 recall: 0.536404253767312\n",
      "fold: 2 accuracy: 0.605072463768116\n",
      "\n"
     ]
    },
    {
     "name": "stderr",
     "output_type": "stream",
     "text": [
      "Default metric period is 5 because AUC is/are not implemented for GPU\n",
      "AUC is not implemented on GPU. Will use CPU for metric computation, this could significantly affect learning time\n"
     ]
    },
    {
     "name": "stdout",
     "output_type": "stream",
     "text": [
      "fold: 3 roc_auc: 0.764015696476494\n",
      "fold: 3 f1: 0.5408254891833301\n",
      "fold: 3 precision: 0.5359631273893205\n",
      "fold: 3 recall: 0.5769647619258683\n",
      "fold: 3 accuracy: 0.5579710144927537\n",
      "\n"
     ]
    },
    {
     "name": "stderr",
     "output_type": "stream",
     "text": [
      "Default metric period is 5 because AUC is/are not implemented for GPU\n",
      "AUC is not implemented on GPU. Will use CPU for metric computation, this could significantly affect learning time\n"
     ]
    },
    {
     "name": "stdout",
     "output_type": "stream",
     "text": [
      "fold: 4 roc_auc: 0.7206580755281201\n",
      "fold: 4 f1: 0.49239398926744166\n",
      "fold: 4 precision: 0.4868827160493827\n",
      "fold: 4 recall: 0.5232765552271984\n",
      "fold: 4 accuracy: 0.5054347826086957\n",
      "\n"
     ]
    },
    {
     "name": "stderr",
     "output_type": "stream",
     "text": [
      "Default metric period is 5 because AUC is/are not implemented for GPU\n",
      "AUC is not implemented on GPU. Will use CPU for metric computation, this could significantly affect learning time\n"
     ]
    },
    {
     "name": "stdout",
     "output_type": "stream",
     "text": [
      "fold: 5 roc_auc: 0.7610104243698245\n",
      "fold: 5 f1: 0.444981146829045\n",
      "fold: 5 precision: 0.4664818572936115\n",
      "fold: 5 recall: 0.5574480946618492\n",
      "fold: 5 accuracy: 0.4482758620689655\n",
      "\n"
     ]
    }
   ],
   "source": [
    "catboost_text_result.append(train_cv([\"lemm\"]))"
   ]
  },
  {
   "cell_type": "code",
   "execution_count": 10,
   "metadata": {},
   "outputs": [
    {
     "name": "stderr",
     "output_type": "stream",
     "text": [
      "Default metric period is 5 because AUC is/are not implemented for GPU\n",
      "AUC is not implemented on GPU. Will use CPU for metric computation, this could significantly affect learning time\n"
     ]
    },
    {
     "name": "stdout",
     "output_type": "stream",
     "text": [
      "fold: 1 roc_auc: 0.733781703807803\n",
      "fold: 1 f1: 0.47111216728859323\n",
      "fold: 1 precision: 0.477055612650411\n",
      "fold: 1 recall: 0.5328925572606616\n",
      "fold: 1 accuracy: 0.47644927536231885\n",
      "\n"
     ]
    },
    {
     "name": "stderr",
     "output_type": "stream",
     "text": [
      "Default metric period is 5 because AUC is/are not implemented for GPU\n",
      "AUC is not implemented on GPU. Will use CPU for metric computation, this could significantly affect learning time\n"
     ]
    },
    {
     "name": "stdout",
     "output_type": "stream",
     "text": [
      "fold: 2 roc_auc: 0.7201593771688221\n",
      "fold: 2 f1: 0.44787633741280614\n",
      "fold: 2 precision: 0.47015606899744683\n",
      "fold: 2 recall: 0.5326113388178448\n",
      "fold: 2 accuracy: 0.45108695652173914\n",
      "\n"
     ]
    },
    {
     "name": "stderr",
     "output_type": "stream",
     "text": [
      "Default metric period is 5 because AUC is/are not implemented for GPU\n",
      "AUC is not implemented on GPU. Will use CPU for metric computation, this could significantly affect learning time\n"
     ]
    },
    {
     "name": "stdout",
     "output_type": "stream",
     "text": [
      "fold: 3 roc_auc: 0.7536957561651968\n",
      "fold: 3 f1: 0.5113250405828479\n",
      "fold: 3 precision: 0.5176069010180672\n",
      "fold: 3 recall: 0.573656570754978\n",
      "fold: 3 accuracy: 0.5181159420289855\n",
      "\n"
     ]
    },
    {
     "name": "stderr",
     "output_type": "stream",
     "text": [
      "Default metric period is 5 because AUC is/are not implemented for GPU\n",
      "AUC is not implemented on GPU. Will use CPU for metric computation, this could significantly affect learning time\n"
     ]
    },
    {
     "name": "stdout",
     "output_type": "stream",
     "text": [
      "fold: 4 roc_auc: 0.715671460381358\n",
      "fold: 4 f1: 0.4947251655197991\n",
      "fold: 4 precision: 0.4884680134680135\n",
      "fold: 4 recall: 0.5253107986108774\n",
      "fold: 4 accuracy: 0.5072463768115942\n",
      "\n"
     ]
    },
    {
     "name": "stderr",
     "output_type": "stream",
     "text": [
      "Default metric period is 5 because AUC is/are not implemented for GPU\n",
      "AUC is not implemented on GPU. Will use CPU for metric computation, this could significantly affect learning time\n"
     ]
    },
    {
     "name": "stdout",
     "output_type": "stream",
     "text": [
      "fold: 5 roc_auc: 0.738712857590088\n",
      "fold: 5 f1: 0.43182780267062726\n",
      "fold: 5 precision: 0.44877041242647103\n",
      "fold: 5 recall: 0.5390538519703331\n",
      "fold: 5 accuracy: 0.4355716878402904\n",
      "\n"
     ]
    }
   ],
   "source": [
    "catboost_text_result.append(train_cv([\"stop_lemm\"]))"
   ]
  },
  {
   "cell_type": "code",
   "execution_count": 11,
   "metadata": {},
   "outputs": [
    {
     "data": {
      "text/html": [
       "<div>\n",
       "<style scoped>\n",
       "    .dataframe tbody tr th:only-of-type {\n",
       "        vertical-align: middle;\n",
       "    }\n",
       "\n",
       "    .dataframe tbody tr th {\n",
       "        vertical-align: top;\n",
       "    }\n",
       "\n",
       "    .dataframe thead th {\n",
       "        text-align: right;\n",
       "    }\n",
       "</style>\n",
       "<table border=\"1\" class=\"dataframe\">\n",
       "  <thead>\n",
       "    <tr style=\"text-align: right;\">\n",
       "      <th></th>\n",
       "      <th>roc_auc</th>\n",
       "      <th>f1</th>\n",
       "      <th>precision</th>\n",
       "      <th>recall</th>\n",
       "      <th>accuracy</th>\n",
       "    </tr>\n",
       "  </thead>\n",
       "  <tbody>\n",
       "    <tr>\n",
       "      <th>text</th>\n",
       "      <td>0.732404</td>\n",
       "      <td>0.471373</td>\n",
       "      <td>0.480411</td>\n",
       "      <td>0.540705</td>\n",
       "      <td>0.477694</td>\n",
       "    </tr>\n",
       "    <tr>\n",
       "      <th>no_stop</th>\n",
       "      <td>0.745832</td>\n",
       "      <td>0.508842</td>\n",
       "      <td>0.515112</td>\n",
       "      <td>0.550890</td>\n",
       "      <td>0.528786</td>\n",
       "    </tr>\n",
       "    <tr>\n",
       "      <th>stemmer</th>\n",
       "      <td>0.738528</td>\n",
       "      <td>0.509724</td>\n",
       "      <td>0.508820</td>\n",
       "      <td>0.553147</td>\n",
       "      <td>0.523016</td>\n",
       "    </tr>\n",
       "    <tr>\n",
       "      <th>stop_stremm</th>\n",
       "      <td>0.740627</td>\n",
       "      <td>0.522479</td>\n",
       "      <td>0.518141</td>\n",
       "      <td>0.555950</td>\n",
       "      <td>0.539325</td>\n",
       "    </tr>\n",
       "    <tr>\n",
       "      <th>lemm</th>\n",
       "      <td>0.745832</td>\n",
       "      <td>0.508842</td>\n",
       "      <td>0.515112</td>\n",
       "      <td>0.550890</td>\n",
       "      <td>0.528786</td>\n",
       "    </tr>\n",
       "    <tr>\n",
       "      <th>stop_lemm</th>\n",
       "      <td>0.732404</td>\n",
       "      <td>0.471373</td>\n",
       "      <td>0.480411</td>\n",
       "      <td>0.540705</td>\n",
       "      <td>0.477694</td>\n",
       "    </tr>\n",
       "  </tbody>\n",
       "</table>\n",
       "</div>"
      ],
      "text/plain": [
       "              roc_auc        f1  precision    recall  accuracy\n",
       "text         0.732404  0.471373   0.480411  0.540705  0.477694\n",
       "no_stop      0.745832  0.508842   0.515112  0.550890  0.528786\n",
       "stemmer      0.738528  0.509724   0.508820  0.553147  0.523016\n",
       "stop_stremm  0.740627  0.522479   0.518141  0.555950  0.539325\n",
       "lemm         0.745832  0.508842   0.515112  0.550890  0.528786\n",
       "stop_lemm    0.732404  0.471373   0.480411  0.540705  0.477694"
      ]
     },
     "execution_count": 11,
     "metadata": {},
     "output_type": "execute_result"
    }
   ],
   "source": [
    "catboost_text_result = pd.concat(catboost_text_result)\n",
    "catboost_text_result"
   ]
  },
  {
   "attachments": {},
   "cell_type": "markdown",
   "metadata": {},
   "source": [
    "Как видно из таблицы лучший результат показывает текст со словами привиденными к его основе и без стоп-слов (stop_stemm)"
   ]
  },
  {
   "attachments": {},
   "cell_type": "markdown",
   "metadata": {},
   "source": [
    "## Catboost + embeddings (like features)"
   ]
  },
  {
   "cell_type": "code",
   "execution_count": 12,
   "metadata": {},
   "outputs": [],
   "source": [
    "catboost_embeddings_like_features = []\n",
    "train_index = y_train.index\n",
    "test_index = y_test.index"
   ]
  },
  {
   "cell_type": "code",
   "execution_count": 13,
   "metadata": {},
   "outputs": [],
   "source": [
    "N_SPLITS = 5\n",
    "\n",
    "\n",
    "def train_emb_like_feature(emb_name: str) -> pd.DataFrame:\n",
    "    df = pd.read_csv(f\"../data/interim/{emb_name}\", low_memory=False)\n",
    "    X_train = df.iloc[train_index].drop(\"target\", axis=1)\n",
    "    y_train = df.loc[train_index, \"target\"]\n",
    "\n",
    "    skf = StratifiedKFold(n_splits=N_SPLITS, shuffle=True, random_state=RANDOM_SEED)\n",
    "    i = 0\n",
    "    mean_score = {}\n",
    "    for train_fold, val_fold in skf.split(X_train, y_train):\n",
    "        cat = CatBoostClassifier(\n",
    "            task_type=\"GPU\",\n",
    "            devices=\"0\",\n",
    "            iterations=10000,\n",
    "            early_stopping_rounds=300,\n",
    "            loss_function=\"MultiClass\",\n",
    "            l2_leaf_reg=11,\n",
    "            auto_class_weights=\"Balanced\",\n",
    "            eval_metric=\"AUC\",\n",
    "            random_seed=RANDOM_SEED,\n",
    "            verbose=0,\n",
    "        )\n",
    "\n",
    "        train_dataset = Pool(\n",
    "            data=X_train.iloc[train_fold], label=y_train.iloc[train_fold]\n",
    "        )\n",
    "\n",
    "        eval_dataset = Pool(data=X_train.iloc[val_fold], label=y_train.iloc[val_fold])\n",
    "\n",
    "        fit_model = cat.fit(\n",
    "            train_dataset, eval_set=eval_dataset, use_best_model=True, plot=False\n",
    "        )\n",
    "\n",
    "        roc_auc = roc_auc_score(\n",
    "            y_train.iloc[val_fold],\n",
    "            fit_model.predict_proba(X_train.iloc[val_fold]),\n",
    "            average=\"macro\",\n",
    "            multi_class=\"ovo\",\n",
    "        )\n",
    "\n",
    "        f1 = f1_score(\n",
    "            y_train.iloc[val_fold],\n",
    "            fit_model.predict(X_train.iloc[val_fold]),\n",
    "            average=\"macro\",\n",
    "        )\n",
    "\n",
    "        precision = precision_score(\n",
    "            y_train.iloc[val_fold],\n",
    "            fit_model.predict(X_train.iloc[val_fold]),\n",
    "            average=\"macro\",\n",
    "        )\n",
    "\n",
    "        recall = recall_score(\n",
    "            y_train.iloc[val_fold],\n",
    "            fit_model.predict(X_train.iloc[val_fold]),\n",
    "            average=\"macro\",\n",
    "        )\n",
    "\n",
    "        accuracy = accuracy_score(\n",
    "            y_train.iloc[val_fold], fit_model.predict(X_train.iloc[val_fold])\n",
    "        )\n",
    "\n",
    "        for score, value_score in zip(\n",
    "            [\"roc_auc\", \"f1\", \"precision\", \"recall\", \"accuracy\"],\n",
    "            [roc_auc, f1, precision, recall, accuracy],\n",
    "        ):\n",
    "            mean_score[score] = mean_score.get(score, 0) + value_score / N_SPLITS\n",
    "            print(f\"fold: {i + 1} {score}: {value_score}\")\n",
    "\n",
    "        print()\n",
    "        i += 1\n",
    "    return pd.DataFrame(mean_score, index=[emb_name])"
   ]
  },
  {
   "cell_type": "code",
   "execution_count": 14,
   "metadata": {},
   "outputs": [
    {
     "name": "stderr",
     "output_type": "stream",
     "text": [
      "Default metric period is 5 because AUC is/are not implemented for GPU\n",
      "AUC is not implemented on GPU. Will use CPU for metric computation, this could significantly affect learning time\n"
     ]
    },
    {
     "name": "stdout",
     "output_type": "stream",
     "text": [
      "fold: 1 roc_auc: 0.6432666980969631\n",
      "fold: 1 f1: 0.4210761738435475\n",
      "fold: 1 precision: 0.42643616287094543\n",
      "fold: 1 recall: 0.43831172688425757\n",
      "fold: 1 accuracy: 0.4692028985507246\n",
      "\n"
     ]
    },
    {
     "name": "stderr",
     "output_type": "stream",
     "text": [
      "Default metric period is 5 because AUC is/are not implemented for GPU\n",
      "AUC is not implemented on GPU. Will use CPU for metric computation, this could significantly affect learning time\n"
     ]
    },
    {
     "name": "stdout",
     "output_type": "stream",
     "text": [
      "fold: 2 roc_auc: 0.6374180688112957\n",
      "fold: 2 f1: 0.4525012141816416\n",
      "fold: 2 precision: 0.4645348252198587\n",
      "fold: 2 recall: 0.45304118195961135\n",
      "fold: 2 accuracy: 0.5398550724637681\n",
      "\n"
     ]
    },
    {
     "name": "stderr",
     "output_type": "stream",
     "text": [
      "Default metric period is 5 because AUC is/are not implemented for GPU\n",
      "AUC is not implemented on GPU. Will use CPU for metric computation, this could significantly affect learning time\n"
     ]
    },
    {
     "name": "stdout",
     "output_type": "stream",
     "text": [
      "fold: 3 roc_auc: 0.6269917403390672\n",
      "fold: 3 f1: 0.42024182154069184\n",
      "fold: 3 precision: 0.4189255366586376\n",
      "fold: 3 recall: 0.42604741295937737\n",
      "fold: 3 accuracy: 0.4963768115942029\n",
      "\n"
     ]
    },
    {
     "name": "stderr",
     "output_type": "stream",
     "text": [
      "Default metric period is 5 because AUC is/are not implemented for GPU\n",
      "AUC is not implemented on GPU. Will use CPU for metric computation, this could significantly affect learning time\n"
     ]
    },
    {
     "name": "stdout",
     "output_type": "stream",
     "text": [
      "fold: 4 roc_auc: 0.6194123006015891\n",
      "fold: 4 f1: 0.41976140544624824\n",
      "fold: 4 precision: 0.42999712705595056\n",
      "fold: 4 recall: 0.4168940109606951\n",
      "fold: 4 accuracy: 0.5054347826086957\n",
      "\n"
     ]
    },
    {
     "name": "stderr",
     "output_type": "stream",
     "text": [
      "Default metric period is 5 because AUC is/are not implemented for GPU\n",
      "AUC is not implemented on GPU. Will use CPU for metric computation, this could significantly affect learning time\n"
     ]
    },
    {
     "name": "stdout",
     "output_type": "stream",
     "text": [
      "fold: 5 roc_auc: 0.6591621505692555\n",
      "fold: 5 f1: 0.4540522670929478\n",
      "fold: 5 precision: 0.4535611974047637\n",
      "fold: 5 recall: 0.45786424198582276\n",
      "fold: 5 accuracy: 0.5390199637023594\n",
      "\n"
     ]
    }
   ],
   "source": [
    "catboost_embeddings_like_features.append(\n",
    "    train_emb_like_feature(\"df_emb_bert-base-uncased.csv\")\n",
    ")"
   ]
  },
  {
   "cell_type": "code",
   "execution_count": 15,
   "metadata": {},
   "outputs": [
    {
     "name": "stderr",
     "output_type": "stream",
     "text": [
      "Default metric period is 5 because AUC is/are not implemented for GPU\n",
      "AUC is not implemented on GPU. Will use CPU for metric computation, this could significantly affect learning time\n"
     ]
    },
    {
     "name": "stdout",
     "output_type": "stream",
     "text": [
      "fold: 1 roc_auc: 0.6400104291438553\n",
      "fold: 1 f1: 0.43391165944623095\n",
      "fold: 1 precision: 0.43902307390896117\n",
      "fold: 1 recall: 0.44245872141854403\n",
      "fold: 1 accuracy: 0.5018115942028986\n",
      "\n"
     ]
    },
    {
     "name": "stderr",
     "output_type": "stream",
     "text": [
      "Default metric period is 5 because AUC is/are not implemented for GPU\n",
      "AUC is not implemented on GPU. Will use CPU for metric computation, this could significantly affect learning time\n"
     ]
    },
    {
     "name": "stdout",
     "output_type": "stream",
     "text": [
      "fold: 2 roc_auc: 0.6112954320049145\n",
      "fold: 2 f1: 0.42669365316785574\n",
      "fold: 2 precision: 0.43251847144173877\n",
      "fold: 2 recall: 0.4258377339508108\n",
      "fold: 2 accuracy: 0.4945652173913043\n",
      "\n"
     ]
    },
    {
     "name": "stderr",
     "output_type": "stream",
     "text": [
      "Default metric period is 5 because AUC is/are not implemented for GPU\n",
      "AUC is not implemented on GPU. Will use CPU for metric computation, this could significantly affect learning time\n"
     ]
    },
    {
     "name": "stdout",
     "output_type": "stream",
     "text": [
      "fold: 3 roc_auc: 0.6310706140932094\n",
      "fold: 3 f1: 0.42256532657069695\n",
      "fold: 3 precision: 0.4432461873638345\n",
      "fold: 3 recall: 0.42841147273793273\n",
      "fold: 3 accuracy: 0.5452898550724637\n",
      "\n"
     ]
    },
    {
     "name": "stderr",
     "output_type": "stream",
     "text": [
      "Default metric period is 5 because AUC is/are not implemented for GPU\n",
      "AUC is not implemented on GPU. Will use CPU for metric computation, this could significantly affect learning time\n"
     ]
    },
    {
     "name": "stdout",
     "output_type": "stream",
     "text": [
      "fold: 4 roc_auc: 0.603694653313976\n",
      "fold: 4 f1: 0.41200828157349906\n",
      "fold: 4 precision: 0.4335337411317804\n",
      "fold: 4 recall: 0.4093195827246759\n",
      "fold: 4 accuracy: 0.5054347826086957\n",
      "\n"
     ]
    },
    {
     "name": "stderr",
     "output_type": "stream",
     "text": [
      "Default metric period is 5 because AUC is/are not implemented for GPU\n",
      "AUC is not implemented on GPU. Will use CPU for metric computation, this could significantly affect learning time\n"
     ]
    },
    {
     "name": "stdout",
     "output_type": "stream",
     "text": [
      "fold: 5 roc_auc: 0.6578860783936875\n",
      "fold: 5 f1: 0.4539149141352324\n",
      "fold: 5 precision: 0.4521409813558548\n",
      "fold: 5 recall: 0.46205960061081436\n",
      "fold: 5 accuracy: 0.515426497277677\n",
      "\n"
     ]
    }
   ],
   "source": [
    "catboost_embeddings_like_features.append(\n",
    "    train_emb_like_feature(\"df_emb_bert-large-uncased.csv\")\n",
    ")"
   ]
  },
  {
   "cell_type": "code",
   "execution_count": 16,
   "metadata": {},
   "outputs": [
    {
     "name": "stderr",
     "output_type": "stream",
     "text": [
      "Default metric period is 5 because AUC is/are not implemented for GPU\n",
      "AUC is not implemented on GPU. Will use CPU for metric computation, this could significantly affect learning time\n"
     ]
    },
    {
     "name": "stdout",
     "output_type": "stream",
     "text": [
      "fold: 1 roc_auc: 0.6077308378580177\n",
      "fold: 1 f1: 0.4212697720079608\n",
      "fold: 1 precision: 0.43080120937263794\n",
      "fold: 1 recall: 0.4496991188238151\n",
      "fold: 1 accuracy: 0.4438405797101449\n",
      "\n"
     ]
    },
    {
     "name": "stderr",
     "output_type": "stream",
     "text": [
      "Default metric period is 5 because AUC is/are not implemented for GPU\n",
      "AUC is not implemented on GPU. Will use CPU for metric computation, this could significantly affect learning time\n"
     ]
    },
    {
     "name": "stdout",
     "output_type": "stream",
     "text": [
      "fold: 2 roc_auc: 0.6307857122984947\n",
      "fold: 2 f1: 0.39467315028958866\n",
      "fold: 2 precision: 0.3946649612979239\n",
      "fold: 2 recall: 0.4143248464013438\n",
      "fold: 2 accuracy: 0.42028985507246375\n",
      "\n"
     ]
    },
    {
     "name": "stderr",
     "output_type": "stream",
     "text": [
      "Default metric period is 5 because AUC is/are not implemented for GPU\n",
      "AUC is not implemented on GPU. Will use CPU for metric computation, this could significantly affect learning time\n"
     ]
    },
    {
     "name": "stdout",
     "output_type": "stream",
     "text": [
      "fold: 3 roc_auc: 0.6037795256834645\n",
      "fold: 3 f1: 0.39743591153740326\n",
      "fold: 3 precision: 0.4003182176157594\n",
      "fold: 3 recall: 0.4078100357887986\n",
      "fold: 3 accuracy: 0.5235507246376812\n",
      "\n"
     ]
    },
    {
     "name": "stderr",
     "output_type": "stream",
     "text": [
      "Default metric period is 5 because AUC is/are not implemented for GPU\n",
      "AUC is not implemented on GPU. Will use CPU for metric computation, this could significantly affect learning time\n"
     ]
    },
    {
     "name": "stdout",
     "output_type": "stream",
     "text": [
      "fold: 4 roc_auc: 0.5955299302372025\n",
      "fold: 4 f1: 0.3814849771181386\n",
      "fold: 4 precision: 0.3808351234821823\n",
      "fold: 4 recall: 0.38474979412233284\n",
      "fold: 4 accuracy: 0.4311594202898551\n",
      "\n"
     ]
    },
    {
     "name": "stderr",
     "output_type": "stream",
     "text": [
      "Default metric period is 5 because AUC is/are not implemented for GPU\n",
      "AUC is not implemented on GPU. Will use CPU for metric computation, this could significantly affect learning time\n"
     ]
    },
    {
     "name": "stdout",
     "output_type": "stream",
     "text": [
      "fold: 5 roc_auc: 0.6418276959927279\n",
      "fold: 5 f1: 0.4050720744918972\n",
      "fold: 5 precision: 0.42758772785921967\n",
      "fold: 5 recall: 0.45184867845862947\n",
      "fold: 5 accuracy: 0.41560798548094374\n",
      "\n"
     ]
    }
   ],
   "source": [
    "catboost_embeddings_like_features.append(\n",
    "    train_emb_like_feature(\"df_emb_albert-base-v2.csv\")\n",
    ")"
   ]
  },
  {
   "cell_type": "code",
   "execution_count": 17,
   "metadata": {},
   "outputs": [
    {
     "name": "stderr",
     "output_type": "stream",
     "text": [
      "Default metric period is 5 because AUC is/are not implemented for GPU\n",
      "AUC is not implemented on GPU. Will use CPU for metric computation, this could significantly affect learning time\n"
     ]
    },
    {
     "name": "stdout",
     "output_type": "stream",
     "text": [
      "fold: 1 roc_auc: 0.614525534108263\n",
      "fold: 1 f1: 0.4029880814587745\n",
      "fold: 1 precision: 0.4139790250140914\n",
      "fold: 1 recall: 0.4075662799537117\n",
      "fold: 1 accuracy: 0.5\n",
      "\n"
     ]
    },
    {
     "name": "stderr",
     "output_type": "stream",
     "text": [
      "Default metric period is 5 because AUC is/are not implemented for GPU\n",
      "AUC is not implemented on GPU. Will use CPU for metric computation, this could significantly affect learning time\n"
     ]
    },
    {
     "name": "stdout",
     "output_type": "stream",
     "text": [
      "fold: 2 roc_auc: 0.6010783674592666\n",
      "fold: 2 f1: 0.42131329423364816\n",
      "fold: 2 precision: 0.4693687720410889\n",
      "fold: 2 recall: 0.4269912559110387\n",
      "fold: 2 accuracy: 0.5471014492753623\n",
      "\n"
     ]
    },
    {
     "name": "stderr",
     "output_type": "stream",
     "text": [
      "Default metric period is 5 because AUC is/are not implemented for GPU\n",
      "AUC is not implemented on GPU. Will use CPU for metric computation, this could significantly affect learning time\n"
     ]
    },
    {
     "name": "stdout",
     "output_type": "stream",
     "text": [
      "fold: 3 roc_auc: 0.5924389812215469\n",
      "fold: 3 f1: 0.39389921556060775\n",
      "fold: 3 precision: 0.41325733658708624\n",
      "fold: 3 recall: 0.4020825314812227\n",
      "fold: 3 accuracy: 0.5289855072463768\n",
      "\n"
     ]
    },
    {
     "name": "stderr",
     "output_type": "stream",
     "text": [
      "Default metric period is 5 because AUC is/are not implemented for GPU\n",
      "AUC is not implemented on GPU. Will use CPU for metric computation, this could significantly affect learning time\n"
     ]
    },
    {
     "name": "stdout",
     "output_type": "stream",
     "text": [
      "fold: 4 roc_auc: 0.5814234019143444\n",
      "fold: 4 f1: 0.38921129287001155\n",
      "fold: 4 precision: 0.38909754169217675\n",
      "fold: 4 recall: 0.3906285832250653\n",
      "fold: 4 accuracy: 0.4746376811594203\n",
      "\n"
     ]
    },
    {
     "name": "stderr",
     "output_type": "stream",
     "text": [
      "Default metric period is 5 because AUC is/are not implemented for GPU\n",
      "AUC is not implemented on GPU. Will use CPU for metric computation, this could significantly affect learning time\n"
     ]
    },
    {
     "name": "stdout",
     "output_type": "stream",
     "text": [
      "fold: 5 roc_auc: 0.5842833910405982\n",
      "fold: 5 f1: 0.3982337719098652\n",
      "fold: 5 precision: 0.4112459214378867\n",
      "fold: 5 recall: 0.40393761791338784\n",
      "fold: 5 accuracy: 0.49909255898366606\n",
      "\n"
     ]
    }
   ],
   "source": [
    "catboost_embeddings_like_features.append(\n",
    "    train_emb_like_feature(\"df_emb_albert-xxlarge-v2.csv\")\n",
    ")"
   ]
  },
  {
   "cell_type": "code",
   "execution_count": 18,
   "metadata": {},
   "outputs": [
    {
     "data": {
      "text/html": [
       "<div>\n",
       "<style scoped>\n",
       "    .dataframe tbody tr th:only-of-type {\n",
       "        vertical-align: middle;\n",
       "    }\n",
       "\n",
       "    .dataframe tbody tr th {\n",
       "        vertical-align: top;\n",
       "    }\n",
       "\n",
       "    .dataframe thead th {\n",
       "        text-align: right;\n",
       "    }\n",
       "</style>\n",
       "<table border=\"1\" class=\"dataframe\">\n",
       "  <thead>\n",
       "    <tr style=\"text-align: right;\">\n",
       "      <th></th>\n",
       "      <th>roc_auc</th>\n",
       "      <th>f1</th>\n",
       "      <th>precision</th>\n",
       "      <th>recall</th>\n",
       "      <th>accuracy</th>\n",
       "    </tr>\n",
       "  </thead>\n",
       "  <tbody>\n",
       "    <tr>\n",
       "      <th>df_emb_bert-base-uncased.csv</th>\n",
       "      <td>0.637250</td>\n",
       "      <td>0.433527</td>\n",
       "      <td>0.438691</td>\n",
       "      <td>0.438432</td>\n",
       "      <td>0.509978</td>\n",
       "    </tr>\n",
       "    <tr>\n",
       "      <th>df_emb_bert-large-uncased.csv</th>\n",
       "      <td>0.628791</td>\n",
       "      <td>0.429819</td>\n",
       "      <td>0.440092</td>\n",
       "      <td>0.433617</td>\n",
       "      <td>0.512506</td>\n",
       "    </tr>\n",
       "    <tr>\n",
       "      <th>df_emb_albert-base-v2.csv</th>\n",
       "      <td>0.615931</td>\n",
       "      <td>0.399987</td>\n",
       "      <td>0.406841</td>\n",
       "      <td>0.421686</td>\n",
       "      <td>0.446890</td>\n",
       "    </tr>\n",
       "    <tr>\n",
       "      <th>df_emb_albert-xxlarge-v2.csv</th>\n",
       "      <td>0.594750</td>\n",
       "      <td>0.401129</td>\n",
       "      <td>0.419390</td>\n",
       "      <td>0.406241</td>\n",
       "      <td>0.509963</td>\n",
       "    </tr>\n",
       "  </tbody>\n",
       "</table>\n",
       "</div>"
      ],
      "text/plain": [
       "                                roc_auc        f1  precision    recall  \\\n",
       "df_emb_bert-base-uncased.csv   0.637250  0.433527   0.438691  0.438432   \n",
       "df_emb_bert-large-uncased.csv  0.628791  0.429819   0.440092  0.433617   \n",
       "df_emb_albert-base-v2.csv      0.615931  0.399987   0.406841  0.421686   \n",
       "df_emb_albert-xxlarge-v2.csv   0.594750  0.401129   0.419390  0.406241   \n",
       "\n",
       "                               accuracy  \n",
       "df_emb_bert-base-uncased.csv   0.509978  \n",
       "df_emb_bert-large-uncased.csv  0.512506  \n",
       "df_emb_albert-base-v2.csv      0.446890  \n",
       "df_emb_albert-xxlarge-v2.csv   0.509963  "
      ]
     },
     "execution_count": 18,
     "metadata": {},
     "output_type": "execute_result"
    }
   ],
   "source": [
    "pd.concat(catboost_embeddings_like_features)"
   ]
  },
  {
   "attachments": {},
   "cell_type": "markdown",
   "metadata": {},
   "source": [
    "Если мы используем эмбединки как фичи, то качество становится гораздо хуже, из предаствленных вариантов лучше себя показывает df_emb_bert-base-uncased"
   ]
  },
  {
   "attachments": {},
   "cell_type": "markdown",
   "metadata": {},
   "source": [
    "## Catboost + embeddings"
   ]
  },
  {
   "cell_type": "code",
   "execution_count": 19,
   "metadata": {},
   "outputs": [],
   "source": [
    "catboost_embeddings = []"
   ]
  },
  {
   "cell_type": "code",
   "execution_count": 20,
   "metadata": {},
   "outputs": [],
   "source": [
    "N_SPLITS = 5\n",
    "\n",
    "\n",
    "def train_emb(emb_name: str) -> pd.DataFrame:\n",
    "    df = pd.read_csv(f\"../data/interim/{emb_name}\", low_memory=False)\n",
    "    X_train = df.iloc[train_index].drop(\"target\", axis=1)\n",
    "    y_train = df.loc[train_index, \"target\"]\n",
    "\n",
    "    X_train[\"emb\"] = X_train.parallel_apply(lambda x: torch.tensor(x), axis=1)\n",
    "\n",
    "    skf = StratifiedKFold(n_splits=N_SPLITS, shuffle=True, random_state=RANDOM_SEED)\n",
    "    i = 0\n",
    "    mean_score = {}\n",
    "    for train_fold, val_fold in skf.split(X_train, y_train):\n",
    "        cat = CatBoostClassifier(\n",
    "            task_type=\"GPU\",\n",
    "            devices=\"0\",\n",
    "            iterations=10000,\n",
    "            early_stopping_rounds=300,\n",
    "            loss_function=\"MultiClass\",\n",
    "            l2_leaf_reg=11,\n",
    "            auto_class_weights=\"Balanced\",\n",
    "            eval_metric=\"AUC\",\n",
    "            random_seed=RANDOM_SEED,\n",
    "            verbose=0,\n",
    "        )\n",
    "\n",
    "        train_dataset = Pool(\n",
    "            data=X_train.iloc[train_fold][[\"emb\"]],\n",
    "            label=y_train.iloc[train_fold],\n",
    "            embedding_features=[\"emb\"],\n",
    "        )\n",
    "\n",
    "        eval_dataset = Pool(\n",
    "            data=X_train.iloc[val_fold][[\"emb\"]],\n",
    "            label=y_train.iloc[val_fold],\n",
    "            embedding_features=[\"emb\"],\n",
    "        )\n",
    "\n",
    "        fit_model = cat.fit(\n",
    "            train_dataset, eval_set=eval_dataset, use_best_model=True, plot=False\n",
    "        )\n",
    "\n",
    "        roc_auc = roc_auc_score(\n",
    "            y_train.iloc[val_fold],\n",
    "            fit_model.predict_proba(X_train.iloc[val_fold][[\"emb\"]]),\n",
    "            average=\"macro\",\n",
    "            multi_class=\"ovo\",\n",
    "        )\n",
    "\n",
    "        f1 = f1_score(\n",
    "            y_train.iloc[val_fold],\n",
    "            fit_model.predict(X_train.iloc[val_fold][[\"emb\"]]),\n",
    "            average=\"macro\",\n",
    "        )\n",
    "\n",
    "        precision = precision_score(\n",
    "            y_train.iloc[val_fold],\n",
    "            fit_model.predict(X_train.iloc[val_fold][[\"emb\"]]),\n",
    "            average=\"macro\",\n",
    "        )\n",
    "\n",
    "        recall = recall_score(\n",
    "            y_train.iloc[val_fold],\n",
    "            fit_model.predict(X_train.iloc[val_fold][[\"emb\"]]),\n",
    "            average=\"macro\",\n",
    "        )\n",
    "\n",
    "        accuracy = accuracy_score(\n",
    "            y_train.iloc[val_fold], fit_model.predict(X_train.iloc[val_fold][[\"emb\"]])\n",
    "        )\n",
    "\n",
    "        for score, value_score in zip(\n",
    "            [\"roc_auc\", \"f1\", \"precision\", \"recall\", \"accuracy\"],\n",
    "            [roc_auc, f1, precision, recall, accuracy],\n",
    "        ):\n",
    "            mean_score[score] = mean_score.get(score, 0) + value_score / N_SPLITS\n",
    "            print(f\"fold: {i + 1} {score}: {value_score}\")\n",
    "\n",
    "        print()\n",
    "        i += 1\n",
    "    return pd.DataFrame(mean_score, index=[emb_name])"
   ]
  },
  {
   "cell_type": "code",
   "execution_count": 21,
   "metadata": {},
   "outputs": [
    {
     "name": "stderr",
     "output_type": "stream",
     "text": [
      "Default metric period is 5 because AUC is/are not implemented for GPU\n",
      "AUC is not implemented on GPU. Will use CPU for metric computation, this could significantly affect learning time\n"
     ]
    },
    {
     "name": "stdout",
     "output_type": "stream",
     "text": [
      "fold: 1 roc_auc: 0.6225237926592964\n",
      "fold: 1 f1: 0.3331914043988348\n",
      "fold: 1 precision: 0.3922991719601889\n",
      "fold: 1 recall: 0.43739641348735686\n",
      "fold: 1 accuracy: 0.34601449275362317\n",
      "\n"
     ]
    },
    {
     "name": "stderr",
     "output_type": "stream",
     "text": [
      "Default metric period is 5 because AUC is/are not implemented for GPU\n",
      "AUC is not implemented on GPU. Will use CPU for metric computation, this could significantly affect learning time\n"
     ]
    },
    {
     "name": "stdout",
     "output_type": "stream",
     "text": [
      "fold: 2 roc_auc: 0.6094749561442094\n",
      "fold: 2 f1: 0.369132408548467\n",
      "fold: 2 precision: 0.40891016436873356\n",
      "fold: 2 recall: 0.45748375662724344\n",
      "fold: 2 accuracy: 0.37318840579710144\n",
      "\n"
     ]
    },
    {
     "name": "stderr",
     "output_type": "stream",
     "text": [
      "Default metric period is 5 because AUC is/are not implemented for GPU\n",
      "AUC is not implemented on GPU. Will use CPU for metric computation, this could significantly affect learning time\n"
     ]
    },
    {
     "name": "stdout",
     "output_type": "stream",
     "text": [
      "fold: 3 roc_auc: 0.6143964999070567\n",
      "fold: 3 f1: 0.33976239548249804\n",
      "fold: 3 precision: 0.42524000486085795\n",
      "fold: 3 recall: 0.4445909073023531\n",
      "fold: 3 accuracy: 0.3442028985507246\n",
      "\n"
     ]
    },
    {
     "name": "stderr",
     "output_type": "stream",
     "text": [
      "Default metric period is 5 because AUC is/are not implemented for GPU\n",
      "AUC is not implemented on GPU. Will use CPU for metric computation, this could significantly affect learning time\n"
     ]
    },
    {
     "name": "stdout",
     "output_type": "stream",
     "text": [
      "fold: 4 roc_auc: 0.6123581575800006\n",
      "fold: 4 f1: 0.35614791259044876\n",
      "fold: 4 precision: 0.42498462354811145\n",
      "fold: 4 recall: 0.4218211628030479\n",
      "fold: 4 accuracy: 0.3496376811594203\n",
      "\n"
     ]
    },
    {
     "name": "stderr",
     "output_type": "stream",
     "text": [
      "Default metric period is 5 because AUC is/are not implemented for GPU\n",
      "AUC is not implemented on GPU. Will use CPU for metric computation, this could significantly affect learning time\n"
     ]
    },
    {
     "name": "stdout",
     "output_type": "stream",
     "text": [
      "fold: 5 roc_auc: 0.6265239819654114\n",
      "fold: 5 f1: 0.34093595529765747\n",
      "fold: 5 precision: 0.4057210159797915\n",
      "fold: 5 recall: 0.4113731908664667\n",
      "fold: 5 accuracy: 0.3793103448275862\n",
      "\n"
     ]
    }
   ],
   "source": [
    "catboost_embeddings.append(train_emb(\"df_emb_bert-base-uncased.csv\"))"
   ]
  },
  {
   "cell_type": "code",
   "execution_count": 22,
   "metadata": {},
   "outputs": [
    {
     "name": "stderr",
     "output_type": "stream",
     "text": [
      "Default metric period is 5 because AUC is/are not implemented for GPU\n",
      "AUC is not implemented on GPU. Will use CPU for metric computation, this could significantly affect learning time\n"
     ]
    },
    {
     "name": "stdout",
     "output_type": "stream",
     "text": [
      "fold: 1 roc_auc: 0.5808990643847368\n",
      "fold: 1 f1: 0.33364909546291005\n",
      "fold: 1 precision: 0.37087784343258795\n",
      "fold: 1 recall: 0.39375334134881085\n",
      "fold: 1 accuracy: 0.358695652173913\n",
      "\n"
     ]
    },
    {
     "name": "stderr",
     "output_type": "stream",
     "text": [
      "Default metric period is 5 because AUC is/are not implemented for GPU\n",
      "AUC is not implemented on GPU. Will use CPU for metric computation, this could significantly affect learning time\n"
     ]
    },
    {
     "name": "stdout",
     "output_type": "stream",
     "text": [
      "fold: 2 roc_auc: 0.49122902986404515\n",
      "fold: 2 f1: 0.25541062590242913\n",
      "fold: 2 precision: 0.3320244965544111\n",
      "fold: 2 recall: 0.3262606894964912\n",
      "fold: 2 accuracy: 0.27717391304347827\n",
      "\n"
     ]
    },
    {
     "name": "stderr",
     "output_type": "stream",
     "text": [
      "Default metric period is 5 because AUC is/are not implemented for GPU\n",
      "AUC is not implemented on GPU. Will use CPU for metric computation, this could significantly affect learning time\n"
     ]
    },
    {
     "name": "stdout",
     "output_type": "stream",
     "text": [
      "fold: 3 roc_auc: 0.6308935093661603\n",
      "fold: 3 f1: 0.39733503016380706\n",
      "fold: 3 precision: 0.42741983417040624\n",
      "fold: 3 recall: 0.43266153390860146\n",
      "fold: 3 accuracy: 0.44021739130434784\n",
      "\n"
     ]
    },
    {
     "name": "stderr",
     "output_type": "stream",
     "text": [
      "Default metric period is 5 because AUC is/are not implemented for GPU\n",
      "AUC is not implemented on GPU. Will use CPU for metric computation, this could significantly affect learning time\n"
     ]
    },
    {
     "name": "stdout",
     "output_type": "stream",
     "text": [
      "fold: 4 roc_auc: 0.571827969294496\n",
      "fold: 4 f1: 0.33535041555400796\n",
      "fold: 4 precision: 0.3695696805452903\n",
      "fold: 4 recall: 0.3728934095959562\n",
      "fold: 4 accuracy: 0.34601449275362317\n",
      "\n"
     ]
    },
    {
     "name": "stderr",
     "output_type": "stream",
     "text": [
      "Default metric period is 5 because AUC is/are not implemented for GPU\n",
      "AUC is not implemented on GPU. Will use CPU for metric computation, this could significantly affect learning time\n"
     ]
    },
    {
     "name": "stdout",
     "output_type": "stream",
     "text": [
      "fold: 5 roc_auc: 0.5805760802914204\n",
      "fold: 5 f1: 0.366998140702131\n",
      "fold: 5 precision: 0.41742770167427706\n",
      "fold: 5 recall: 0.3847077374176114\n",
      "fold: 5 accuracy: 0.40653357531760437\n",
      "\n"
     ]
    }
   ],
   "source": [
    "catboost_embeddings.append(train_emb(\"df_emb_bert-large-uncased.csv\"))"
   ]
  },
  {
   "cell_type": "code",
   "execution_count": 23,
   "metadata": {},
   "outputs": [
    {
     "name": "stderr",
     "output_type": "stream",
     "text": [
      "Default metric period is 5 because AUC is/are not implemented for GPU\n",
      "AUC is not implemented on GPU. Will use CPU for metric computation, this could significantly affect learning time\n"
     ]
    },
    {
     "name": "stdout",
     "output_type": "stream",
     "text": [
      "fold: 1 roc_auc: 0.5331844905773023\n",
      "fold: 1 f1: 0.2687988436310035\n",
      "fold: 1 precision: 0.412758120916622\n",
      "fold: 1 recall: 0.3205034562047391\n",
      "fold: 1 accuracy: 0.302536231884058\n",
      "\n"
     ]
    },
    {
     "name": "stderr",
     "output_type": "stream",
     "text": [
      "Default metric period is 5 because AUC is/are not implemented for GPU\n",
      "AUC is not implemented on GPU. Will use CPU for metric computation, this could significantly affect learning time\n"
     ]
    },
    {
     "name": "stdout",
     "output_type": "stream",
     "text": [
      "fold: 2 roc_auc: 0.5769732849998533\n",
      "fold: 2 f1: 0.34721796578663117\n",
      "fold: 2 precision: 0.387513609480924\n",
      "fold: 2 recall: 0.41691010108073595\n",
      "fold: 2 accuracy: 0.3695652173913043\n",
      "\n"
     ]
    },
    {
     "name": "stderr",
     "output_type": "stream",
     "text": [
      "Default metric period is 5 because AUC is/are not implemented for GPU\n",
      "AUC is not implemented on GPU. Will use CPU for metric computation, this could significantly affect learning time\n"
     ]
    },
    {
     "name": "stdout",
     "output_type": "stream",
     "text": [
      "fold: 3 roc_auc: 0.6020786192721\n",
      "fold: 3 f1: 0.36896674582327066\n",
      "fold: 3 precision: 0.4214737590762683\n",
      "fold: 3 recall: 0.4481633045035935\n",
      "fold: 3 accuracy: 0.38405797101449274\n",
      "\n"
     ]
    },
    {
     "name": "stderr",
     "output_type": "stream",
     "text": [
      "Default metric period is 5 because AUC is/are not implemented for GPU\n",
      "AUC is not implemented on GPU. Will use CPU for metric computation, this could significantly affect learning time\n"
     ]
    },
    {
     "name": "stdout",
     "output_type": "stream",
     "text": [
      "fold: 4 roc_auc: 0.5921936274784791\n",
      "fold: 4 f1: 0.3491007640555506\n",
      "fold: 4 precision: 0.4049311863506637\n",
      "fold: 4 recall: 0.39364819713992727\n",
      "fold: 4 accuracy: 0.3967391304347826\n",
      "\n"
     ]
    },
    {
     "name": "stderr",
     "output_type": "stream",
     "text": [
      "Default metric period is 5 because AUC is/are not implemented for GPU\n",
      "AUC is not implemented on GPU. Will use CPU for metric computation, this could significantly affect learning time\n"
     ]
    },
    {
     "name": "stdout",
     "output_type": "stream",
     "text": [
      "fold: 5 roc_auc: 0.5813164910866687\n",
      "fold: 5 f1: 0.3871726063794944\n",
      "fold: 5 precision: 0.3951728289262723\n",
      "fold: 5 recall: 0.3992748225007127\n",
      "fold: 5 accuracy: 0.4355716878402904\n",
      "\n"
     ]
    }
   ],
   "source": [
    "catboost_embeddings.append(train_emb(\"df_emb_albert-base-v2.csv\"))"
   ]
  },
  {
   "cell_type": "code",
   "execution_count": 26,
   "metadata": {},
   "outputs": [
    {
     "data": {
      "text/html": [
       "<div>\n",
       "<style scoped>\n",
       "    .dataframe tbody tr th:only-of-type {\n",
       "        vertical-align: middle;\n",
       "    }\n",
       "\n",
       "    .dataframe tbody tr th {\n",
       "        vertical-align: top;\n",
       "    }\n",
       "\n",
       "    .dataframe thead th {\n",
       "        text-align: right;\n",
       "    }\n",
       "</style>\n",
       "<table border=\"1\" class=\"dataframe\">\n",
       "  <thead>\n",
       "    <tr style=\"text-align: right;\">\n",
       "      <th></th>\n",
       "      <th>roc_auc</th>\n",
       "      <th>f1</th>\n",
       "      <th>precision</th>\n",
       "      <th>recall</th>\n",
       "      <th>accuracy</th>\n",
       "    </tr>\n",
       "  </thead>\n",
       "  <tbody>\n",
       "    <tr>\n",
       "      <th>df_emb_bert-base-uncased.csv</th>\n",
       "      <td>0.617055</td>\n",
       "      <td>0.347834</td>\n",
       "      <td>0.411431</td>\n",
       "      <td>0.434533</td>\n",
       "      <td>0.358471</td>\n",
       "    </tr>\n",
       "    <tr>\n",
       "      <th>df_emb_bert-large-uncased.csv</th>\n",
       "      <td>0.571085</td>\n",
       "      <td>0.337749</td>\n",
       "      <td>0.383464</td>\n",
       "      <td>0.382055</td>\n",
       "      <td>0.365727</td>\n",
       "    </tr>\n",
       "    <tr>\n",
       "      <th>df_emb_albert-base-v2.csv</th>\n",
       "      <td>0.577149</td>\n",
       "      <td>0.344251</td>\n",
       "      <td>0.404370</td>\n",
       "      <td>0.395700</td>\n",
       "      <td>0.377694</td>\n",
       "    </tr>\n",
       "  </tbody>\n",
       "</table>\n",
       "</div>"
      ],
      "text/plain": [
       "                                roc_auc        f1  precision    recall  \\\n",
       "df_emb_bert-base-uncased.csv   0.617055  0.347834   0.411431  0.434533   \n",
       "df_emb_bert-large-uncased.csv  0.571085  0.337749   0.383464  0.382055   \n",
       "df_emb_albert-base-v2.csv      0.577149  0.344251   0.404370  0.395700   \n",
       "\n",
       "                               accuracy  \n",
       "df_emb_bert-base-uncased.csv   0.358471  \n",
       "df_emb_bert-large-uncased.csv  0.365727  \n",
       "df_emb_albert-base-v2.csv      0.377694  "
      ]
     },
     "execution_count": 26,
     "metadata": {},
     "output_type": "execute_result"
    }
   ],
   "source": [
    "catboost_embeddings = pd.concat(catboost_embeddings)\n",
    "catboost_embeddings"
   ]
  },
  {
   "attachments": {},
   "cell_type": "markdown",
   "metadata": {},
   "source": [
    "## Catboost + text_feateres + emb + optuna"
   ]
  },
  {
   "cell_type": "code",
   "execution_count": 29,
   "metadata": {},
   "outputs": [],
   "source": [
    "train_index = y_train.index\n",
    "test_index = y_test.index"
   ]
  },
  {
   "cell_type": "code",
   "execution_count": 32,
   "metadata": {},
   "outputs": [],
   "source": [
    "df_text = pd.read_csv(\"../data/interim/df_preprocessed_text.csv\")\n",
    "df_text = df_text.iloc[train_index][[\"stop_stremm\"]]\n",
    "\n",
    "df_emb = pd.read_csv(\"../data/interim/df_emb_bert-base-uncased.csv\")\n",
    "emb_len = len(df_emb) - 1\n",
    "df_emb = df_emb.iloc[train_index]\n",
    "\n",
    "df = df_emb.join(df_text)\n",
    "df[\"emb\"] = df[[str(i) for i in range(768)]].parallel_apply(\n",
    "    lambda x: torch.Tensor(x), axis=1\n",
    ")\n",
    "\n",
    "X_train_emb_text = df[[\"stop_stremm\", \"emb\"]]\n",
    "y_train_emb_text = df[\"target\"]"
   ]
  },
  {
   "cell_type": "code",
   "execution_count": 33,
   "metadata": {},
   "outputs": [],
   "source": [
    "def fit_catboost(param, train_data, valid_data):\n",
    "    X_train, y_train = train_data[0], train_data[1]\n",
    "    X_val, y_val = valid_data[0], valid_data[1]\n",
    "\n",
    "    train_dataset = Pool(\n",
    "        data=X_train,\n",
    "        label=y_train,\n",
    "        embedding_features=[\"emb\"],\n",
    "        text_features=[\"stop_stremm\"],\n",
    "    )\n",
    "\n",
    "    eval_dataset = Pool(\n",
    "        data=X_val,\n",
    "        label=y_val,\n",
    "        embedding_features=[\"emb\"],\n",
    "        text_features=[\"stop_stremm\"],\n",
    "    )\n",
    "\n",
    "    clf = CatBoostClassifier(**param, thread_count=-1, random_seed=RANDOM_SEED)\n",
    "\n",
    "    clf.fit(\n",
    "        train_dataset,\n",
    "        eval_set=eval_dataset,\n",
    "        verbose=0,\n",
    "        plot=False,\n",
    "        early_stopping_rounds=300,\n",
    "    )\n",
    "\n",
    "    proba = clf.predict_proba(eval_dataset)\n",
    "    pred = clf.predict(eval_dataset)\n",
    "\n",
    "    roc_auc = roc_auc_score(\n",
    "        y_val,\n",
    "        proba,\n",
    "        average=\"macro\",\n",
    "        multi_class=\"ovo\",\n",
    "    )\n",
    "\n",
    "    f1 = f1_score(\n",
    "        y_val,\n",
    "        pred,\n",
    "        average=\"macro\",\n",
    "    )\n",
    "\n",
    "    precision = precision_score(\n",
    "        y_val,\n",
    "        pred,\n",
    "        average=\"macro\",\n",
    "    )\n",
    "\n",
    "    recall = recall_score(\n",
    "        y_val,\n",
    "        pred,\n",
    "        average=\"macro\",\n",
    "    )\n",
    "\n",
    "    accuracy = accuracy_score(\n",
    "            y_val, pred\n",
    "        )\n",
    "\n",
    "    return {\n",
    "        'model':clf,\n",
    "        'roc_auc':roc_auc,\n",
    "        'f1':f1,\n",
    "        'precision':precision,\n",
    "        'recall':recall,\n",
    "        'accuracy':accuracy\n",
    "    }"
   ]
  },
  {
   "cell_type": "code",
   "execution_count": 36,
   "metadata": {},
   "outputs": [],
   "source": [
    "best_score = float('-inf')\n",
    "best_models = None\n",
    "mean_sore_list = []\n",
    "\n",
    "def objective(trial):\n",
    "    global best_score, best_models, mean_sore_list\n",
    "\n",
    "    n_splits=5\n",
    "\n",
    "    param = {\n",
    "        \"learning_rate\": trial.suggest_float(\"learning_rate\", 0.001, 0.01),\n",
    "        \"l2_leaf_reg\": trial.suggest_int(\"l2_leaf_reg\", 2, 50),\n",
    "        \"auto_class_weights\": trial.suggest_categorical(\n",
    "            \"auto_class_weights\", [\"SqrtBalanced\", \"Balanced\", \"None\"]\n",
    "        ),\n",
    "        \"depth\": trial.suggest_int(\"depth\", 4, 9),\n",
    "        \"bootstrap_type\": trial.suggest_categorical(\n",
    "            \"bootstrap_type\", [\"Bayesian\", \"Bernoulli\"]\n",
    "        ),\n",
    "        \"eval_metric\": \"TotalF1\",\n",
    "        \"task_type\": \"GPU\",\n",
    "        \"devices\": \"0\",\n",
    "        \"iterations\": 10000,\n",
    "        \"early_stopping_rounds\": 300,\n",
    "        \"loss_function\": \"MultiClass\",\n",
    "        \"verbose\": 0,\n",
    "        'border_count':254\n",
    "\n",
    "    }\n",
    "\n",
    "    if param[\"bootstrap_type\"] == \"Bayesian\":\n",
    "        param[\"bagging_temperature\"] = trial.suggest_float(\"bagging_temperature\", 0, 10)\n",
    "    elif param[\"bootstrap_type\"] == \"Bernoulli\":\n",
    "        param[\"subsample\"] = trial.suggest_float(\"subsample\", 0.1, 1)\n",
    "\n",
    "    skf = StratifiedKFold(n_splits=n_splits, shuffle=True, random_state=RANDOM_SEED)\n",
    "\n",
    "    list_models = []\n",
    "    list_roc_auc = []\n",
    "    list_f1 = []\n",
    "    list_precision = []\n",
    "    list_recall = []\n",
    "    list_accuracy = []\n",
    "    mean_score = {}\n",
    "    \n",
    "    for train_idx, valid_idx in skf.split(X_train_emb_text, y_train_emb_text):\n",
    "        train_data = X_train_emb_text.iloc[train_idx, :], y_train_emb_text.iloc[train_idx]\n",
    "        valid_data = X_train_emb_text.iloc[valid_idx, :], y_train_emb_text.iloc[valid_idx]\n",
    "        \n",
    "        # Подаем trials для перебора\n",
    "        result = fit_catboost(param, train_data, valid_data) # Определили выше\n",
    "        list_models.append(result['model'])\n",
    "        list_roc_auc.append(result['roc_auc'])\n",
    "        list_f1.append(result['f1'])\n",
    "        list_precision.append(result['precision'])\n",
    "        list_recall.append(result['recall'])\n",
    "        list_accuracy.append(result['accuracy'])\n",
    "        \n",
    "    for score, value_score in zip(\n",
    "        [\"roc_auc\", \"f1\", \"precision\", \"recall\", \"accuracy\"],\n",
    "        [list_roc_auc, list_f1, list_precision, list_recall, list_accuracy],\n",
    "    ):\n",
    "        mean_score[score] = np.mean(value_score)\n",
    "\n",
    "    result = np.mean(list_f1)\n",
    "    \n",
    "    if best_score < result:\n",
    "        best_score = result\n",
    "        best_models = list_models\n",
    "    mean_sore_list.append(param | mean_score)\n",
    "\n",
    "    return result"
   ]
  },
  {
   "cell_type": "code",
   "execution_count": 37,
   "metadata": {},
   "outputs": [
    {
     "name": "stderr",
     "output_type": "stream",
     "text": [
      "[I 2023-07-02 17:15:44,352] A new study created in memory with name: no-name-ee43aa1d-87d4-46c7-a3ba-6f91adea2fd7\n"
     ]
    },
    {
     "data": {
      "application/vnd.jupyter.widget-view+json": {
       "model_id": "863a6eaaf27845ab9ac6202e3e601c4a",
       "version_major": 2,
       "version_minor": 0
      },
      "text/plain": [
       "  0%|          | 0/100 [00:00<?, ?it/s]"
      ]
     },
     "metadata": {},
     "output_type": "display_data"
    },
    {
     "name": "stdout",
     "output_type": "stream",
     "text": [
      "[I 2023-07-02 17:22:05,123] Trial 0 finished with value: 0.48620627053160836 and parameters: {'learning_rate': 0.0027985505970652197, 'l2_leaf_reg': 30, 'auto_class_weights': 'Balanced', 'depth': 8, 'bootstrap_type': 'Bernoulli', 'subsample': 0.8653666283902238}. Best is trial 0 with value: 0.48620627053160836.\n",
      "[I 2023-07-02 17:28:29,246] Trial 1 finished with value: 0.4395744090388295 and parameters: {'learning_rate': 0.0019775336508847828, 'l2_leaf_reg': 10, 'auto_class_weights': 'Balanced', 'depth': 4, 'bootstrap_type': 'Bernoulli', 'subsample': 0.14280437288193418}. Best is trial 0 with value: 0.48620627053160836.\n"
     ]
    },
    {
     "name": "stderr",
     "output_type": "stream",
     "text": [
      "/home/gleb/.cache/pypoetry/virtualenvs/mlposproj-r38FbfZE-py3.10/lib/python3.10/site-packages/sklearn/metrics/_classification.py:1344: UndefinedMetricWarning: Precision is ill-defined and being set to 0.0 in labels with no predicted samples. Use `zero_division` parameter to control this behavior.\n",
      "  _warn_prf(average, modifier, msg_start, len(result))\n",
      "/home/gleb/.cache/pypoetry/virtualenvs/mlposproj-r38FbfZE-py3.10/lib/python3.10/site-packages/sklearn/metrics/_classification.py:1344: UndefinedMetricWarning: Precision is ill-defined and being set to 0.0 in labels with no predicted samples. Use `zero_division` parameter to control this behavior.\n",
      "  _warn_prf(average, modifier, msg_start, len(result))\n"
     ]
    },
    {
     "name": "stdout",
     "output_type": "stream",
     "text": [
      "[I 2023-07-02 17:34:45,599] Trial 2 finished with value: 0.4324442711492581 and parameters: {'learning_rate': 0.002933811477679544, 'l2_leaf_reg': 29, 'auto_class_weights': 'SqrtBalanced', 'depth': 5, 'bootstrap_type': 'Bayesian', 'bagging_temperature': 5.403720051275682}. Best is trial 0 with value: 0.48620627053160836.\n",
      "[I 2023-07-02 17:41:39,316] Trial 3 finished with value: 0.5283875275719636 and parameters: {'learning_rate': 0.008616477236770672, 'l2_leaf_reg': 24, 'auto_class_weights': 'SqrtBalanced', 'depth': 9, 'bootstrap_type': 'Bayesian', 'bagging_temperature': 0.5278745322314726}. Best is trial 3 with value: 0.5283875275719636.\n",
      "[I 2023-07-02 17:48:15,379] Trial 4 finished with value: 0.4675812708430125 and parameters: {'learning_rate': 0.0069412674308764345, 'l2_leaf_reg': 18, 'auto_class_weights': 'SqrtBalanced', 'depth': 8, 'bootstrap_type': 'Bayesian', 'bagging_temperature': 3.6030318799457706}. Best is trial 3 with value: 0.5283875275719636.\n",
      "[I 2023-07-02 17:54:53,611] Trial 5 finished with value: 0.4861338168147598 and parameters: {'learning_rate': 0.005938896361322138, 'l2_leaf_reg': 40, 'auto_class_weights': 'Balanced', 'depth': 9, 'bootstrap_type': 'Bayesian', 'bagging_temperature': 0.3513471835161852}. Best is trial 3 with value: 0.5283875275719636.\n",
      "[I 2023-07-02 18:01:06,550] Trial 6 finished with value: 0.4944435584629782 and parameters: {'learning_rate': 0.0034346740500353413, 'l2_leaf_reg': 11, 'auto_class_weights': 'SqrtBalanced', 'depth': 4, 'bootstrap_type': 'Bernoulli', 'subsample': 0.1837067972906592}. Best is trial 3 with value: 0.5283875275719636.\n",
      "[I 2023-07-02 18:07:29,894] Trial 7 finished with value: 0.4411457876135202 and parameters: {'learning_rate': 0.00458037140672215, 'l2_leaf_reg': 32, 'auto_class_weights': 'None', 'depth': 8, 'bootstrap_type': 'Bernoulli', 'subsample': 0.6995727447663886}. Best is trial 3 with value: 0.5283875275719636.\n",
      "[I 2023-07-02 18:13:57,484] Trial 8 finished with value: 0.5202700009668005 and parameters: {'learning_rate': 0.007943702624684915, 'l2_leaf_reg': 35, 'auto_class_weights': 'SqrtBalanced', 'depth': 5, 'bootstrap_type': 'Bernoulli', 'subsample': 0.7029144720118675}. Best is trial 3 with value: 0.5283875275719636.\n",
      "[I 2023-07-02 18:20:37,321] Trial 9 finished with value: 0.444389487910869 and parameters: {'learning_rate': 0.005896597487842165, 'l2_leaf_reg': 22, 'auto_class_weights': 'SqrtBalanced', 'depth': 8, 'bootstrap_type': 'Bayesian', 'bagging_temperature': 5.622937885068032}. Best is trial 3 with value: 0.5283875275719636.\n"
     ]
    },
    {
     "name": "stderr",
     "output_type": "stream",
     "text": [
      "/home/gleb/.cache/pypoetry/virtualenvs/mlposproj-r38FbfZE-py3.10/lib/python3.10/site-packages/sklearn/metrics/_classification.py:1344: UndefinedMetricWarning: Precision is ill-defined and being set to 0.0 in labels with no predicted samples. Use `zero_division` parameter to control this behavior.\n",
      "  _warn_prf(average, modifier, msg_start, len(result))\n",
      "/home/gleb/.cache/pypoetry/virtualenvs/mlposproj-r38FbfZE-py3.10/lib/python3.10/site-packages/sklearn/metrics/_classification.py:1344: UndefinedMetricWarning: Precision is ill-defined and being set to 0.0 in labels with no predicted samples. Use `zero_division` parameter to control this behavior.\n",
      "  _warn_prf(average, modifier, msg_start, len(result))\n"
     ]
    },
    {
     "name": "stdout",
     "output_type": "stream",
     "text": [
      "[I 2023-07-02 18:26:52,007] Trial 10 finished with value: 0.4259909795270601 and parameters: {'learning_rate': 0.00977871633278937, 'l2_leaf_reg': 50, 'auto_class_weights': 'None', 'depth': 6, 'bootstrap_type': 'Bayesian', 'bagging_temperature': 0.01525582392222058}. Best is trial 3 with value: 0.5283875275719636.\n",
      "[I 2023-07-02 18:33:14,196] Trial 11 finished with value: 0.517406313265353 and parameters: {'learning_rate': 0.008466578766146178, 'l2_leaf_reg': 40, 'auto_class_weights': 'SqrtBalanced', 'depth': 6, 'bootstrap_type': 'Bernoulli', 'subsample': 0.5481307907970315}. Best is trial 3 with value: 0.5283875275719636.\n"
     ]
    },
    {
     "name": "stderr",
     "output_type": "stream",
     "text": [
      "/home/gleb/.cache/pypoetry/virtualenvs/mlposproj-r38FbfZE-py3.10/lib/python3.10/site-packages/sklearn/metrics/_classification.py:1344: UndefinedMetricWarning: Precision is ill-defined and being set to 0.0 in labels with no predicted samples. Use `zero_division` parameter to control this behavior.\n",
      "  _warn_prf(average, modifier, msg_start, len(result))\n",
      "/home/gleb/.cache/pypoetry/virtualenvs/mlposproj-r38FbfZE-py3.10/lib/python3.10/site-packages/sklearn/metrics/_classification.py:1344: UndefinedMetricWarning: Precision is ill-defined and being set to 0.0 in labels with no predicted samples. Use `zero_division` parameter to control this behavior.\n",
      "  _warn_prf(average, modifier, msg_start, len(result))\n"
     ]
    },
    {
     "name": "stdout",
     "output_type": "stream",
     "text": [
      "[I 2023-07-02 18:39:35,055] Trial 12 finished with value: 0.42221484755229965 and parameters: {'learning_rate': 0.008089461804326948, 'l2_leaf_reg': 39, 'auto_class_weights': 'SqrtBalanced', 'depth': 5, 'bootstrap_type': 'Bayesian', 'bagging_temperature': 9.641676736912043}. Best is trial 3 with value: 0.5283875275719636.\n",
      "[I 2023-07-02 18:45:57,172] Trial 13 finished with value: 0.5308047187750784 and parameters: {'learning_rate': 0.009911457627308193, 'l2_leaf_reg': 18, 'auto_class_weights': 'SqrtBalanced', 'depth': 7, 'bootstrap_type': 'Bernoulli', 'subsample': 0.9327556873306312}. Best is trial 13 with value: 0.5308047187750784.\n",
      "[I 2023-07-02 18:52:29,843] Trial 14 finished with value: 0.5270763605738733 and parameters: {'learning_rate': 0.009942189824389587, 'l2_leaf_reg': 2, 'auto_class_weights': 'SqrtBalanced', 'depth': 9, 'bootstrap_type': 'Bernoulli', 'subsample': 0.9557307446856258}. Best is trial 13 with value: 0.5308047187750784.\n"
     ]
    },
    {
     "name": "stderr",
     "output_type": "stream",
     "text": [
      "/home/gleb/.cache/pypoetry/virtualenvs/mlposproj-r38FbfZE-py3.10/lib/python3.10/site-packages/sklearn/metrics/_classification.py:1344: UndefinedMetricWarning: Precision is ill-defined and being set to 0.0 in labels with no predicted samples. Use `zero_division` parameter to control this behavior.\n",
      "  _warn_prf(average, modifier, msg_start, len(result))\n",
      "/home/gleb/.cache/pypoetry/virtualenvs/mlposproj-r38FbfZE-py3.10/lib/python3.10/site-packages/sklearn/metrics/_classification.py:1344: UndefinedMetricWarning: Precision is ill-defined and being set to 0.0 in labels with no predicted samples. Use `zero_division` parameter to control this behavior.\n",
      "  _warn_prf(average, modifier, msg_start, len(result))\n",
      "/home/gleb/.cache/pypoetry/virtualenvs/mlposproj-r38FbfZE-py3.10/lib/python3.10/site-packages/sklearn/metrics/_classification.py:1344: UndefinedMetricWarning: Precision is ill-defined and being set to 0.0 in labels with no predicted samples. Use `zero_division` parameter to control this behavior.\n",
      "  _warn_prf(average, modifier, msg_start, len(result))\n",
      "/home/gleb/.cache/pypoetry/virtualenvs/mlposproj-r38FbfZE-py3.10/lib/python3.10/site-packages/sklearn/metrics/_classification.py:1344: UndefinedMetricWarning: Precision is ill-defined and being set to 0.0 in labels with no predicted samples. Use `zero_division` parameter to control this behavior.\n",
      "  _warn_prf(average, modifier, msg_start, len(result))\n",
      "/home/gleb/.cache/pypoetry/virtualenvs/mlposproj-r38FbfZE-py3.10/lib/python3.10/site-packages/sklearn/metrics/_classification.py:1344: UndefinedMetricWarning: Precision is ill-defined and being set to 0.0 in labels with no predicted samples. Use `zero_division` parameter to control this behavior.\n",
      "  _warn_prf(average, modifier, msg_start, len(result))\n"
     ]
    },
    {
     "name": "stdout",
     "output_type": "stream",
     "text": [
      "[I 2023-07-02 18:58:51,628] Trial 15 finished with value: 0.4164306197555547 and parameters: {'learning_rate': 0.00915903749329153, 'l2_leaf_reg': 18, 'auto_class_weights': 'None', 'depth': 7, 'bootstrap_type': 'Bayesian', 'bagging_temperature': 2.6525622558152584}. Best is trial 13 with value: 0.5308047187750784.\n",
      "[I 2023-07-02 19:05:15,630] Trial 16 finished with value: 0.5013780269865648 and parameters: {'learning_rate': 0.00736175782622169, 'l2_leaf_reg': 25, 'auto_class_weights': 'SqrtBalanced', 'depth': 7, 'bootstrap_type': 'Bayesian', 'bagging_temperature': 1.7027216774214238}. Best is trial 13 with value: 0.5308047187750784.\n",
      "[I 2023-07-02 19:11:42,504] Trial 17 finished with value: 0.5279457371484637 and parameters: {'learning_rate': 0.008704118819537166, 'l2_leaf_reg': 15, 'auto_class_weights': 'SqrtBalanced', 'depth': 9, 'bootstrap_type': 'Bernoulli', 'subsample': 0.9081723932011774}. Best is trial 13 with value: 0.5308047187750784.\n"
     ]
    }
   ],
   "source": [
    "study = optuna.create_study(direction=\"maximize\")\n",
    "study.optimize(objective,\n",
    "               n_trials=100,\n",
    "               show_progress_bar=True,\n",
    "               gc_after_trial=True\n",
    "               )"
   ]
  },
  {
   "attachments": {},
   "cell_type": "markdown",
   "metadata": {},
   "source": [
    "## BERT "
   ]
  },
  {
   "cell_type": "code",
   "execution_count": 4,
   "metadata": {},
   "outputs": [
    {
     "name": "stderr",
     "output_type": "stream",
     "text": [
      "Some weights of the model checkpoint at bert-base-uncased were not used when initializing BertForSequenceClassification: ['cls.seq_relationship.bias', 'cls.predictions.transform.dense.weight', 'cls.predictions.transform.LayerNorm.bias', 'cls.seq_relationship.weight', 'cls.predictions.bias', 'cls.predictions.transform.LayerNorm.weight', 'cls.predictions.transform.dense.bias']\n",
      "- This IS expected if you are initializing BertForSequenceClassification from the checkpoint of a model trained on another task or with another architecture (e.g. initializing a BertForSequenceClassification model from a BertForPreTraining model).\n",
      "- This IS NOT expected if you are initializing BertForSequenceClassification from the checkpoint of a model that you expect to be exactly identical (initializing a BertForSequenceClassification model from a BertForSequenceClassification model).\n",
      "Some weights of BertForSequenceClassification were not initialized from the model checkpoint at bert-base-uncased and are newly initialized: ['classifier.bias', 'classifier.weight']\n",
      "You should probably TRAIN this model on a down-stream task to be able to use it for predictions and inference.\n"
     ]
    }
   ],
   "source": [
    "model_name = \"bert-base-uncased\" \n",
    "\n",
    "bert_classifier = AutoModelForSequenceClassification.from_pretrained(model_name, num_labels=3).to('cuda:0')\n",
    "bert_tokenizer = AutoTokenizer.from_pretrained(model_name)"
   ]
  },
  {
   "cell_type": "code",
   "execution_count": 5,
   "metadata": {},
   "outputs": [],
   "source": [
    "class GroupsDataset(torch.utils.data.Dataset):\n",
    "    def __init__(self, encodings, labels):\n",
    "        self.encodings = encodings\n",
    "        self.labels = labels\n",
    "\n",
    "    def __getitem__(self, idx):\n",
    "        item = {k: torch.tensor(v[idx]) for k, v in self.encodings.items()}\n",
    "        item[\"labels\"] = torch.tensor([self.labels[idx]])\n",
    "        return item\n",
    "\n",
    "    def __len__(self):\n",
    "        return len(self.labels)\n"
   ]
  },
  {
   "cell_type": "code",
   "execution_count": 6,
   "metadata": {},
   "outputs": [],
   "source": [
    "label2index = {name:index for index, name in enumerate(y_train.unique())}"
   ]
  },
  {
   "cell_type": "code",
   "execution_count": 7,
   "metadata": {},
   "outputs": [],
   "source": [
    "y_train_index = y_train.map(label2index)\n",
    "y_valid_index = y_test.map(label2index)"
   ]
  },
  {
   "cell_type": "code",
   "execution_count": 8,
   "metadata": {},
   "outputs": [],
   "source": [
    "def make_datasets(X_train, X_val, y_train, y_val, columns):\n",
    "    X_train = X_train[columns].tolist()\n",
    "    X_val = X_val[columns].tolist()\n",
    "    y_train = y_train.tolist()\n",
    "    y_val = y_val.tolist()\n",
    "\n",
    "    train_encodings = bert_tokenizer(X_train, truncation=True, padding=True)\n",
    "    val_encodings = bert_tokenizer(X_val, truncation=True, padding=True)\n",
    "    train_dataset = GroupsDataset(train_encodings, y_train)\n",
    "    valid_dataset = GroupsDataset(val_encodings, y_val)\n",
    "    return train_dataset, valid_dataset"
   ]
  },
  {
   "cell_type": "code",
   "execution_count": 9,
   "metadata": {},
   "outputs": [],
   "source": [
    "def compute_metrics(pred):\n",
    "    labels = pred.label_ids\n",
    "    preds = pred.predictions.argmax(-1)\n",
    "\n",
    "    f1 = f1_score(labels, preds, average='macro')\n",
    "    return {\n",
    "            'f1 macro': f1\n",
    "            }"
   ]
  },
  {
   "cell_type": "code",
   "execution_count": 10,
   "metadata": {},
   "outputs": [],
   "source": [
    "train_dataset, valid_dataset = make_datasets(X_train, X_test, y_train_index, y_valid_index, 'text')"
   ]
  },
  {
   "cell_type": "code",
   "execution_count": 11,
   "metadata": {},
   "outputs": [],
   "source": [
    "training_args = TrainingArguments(\n",
    "    output_dir='./results',\n",
    "    learning_rate=5e-5,\n",
    "    num_train_epochs=10,\n",
    "    per_device_train_batch_size=16,\n",
    "    per_device_eval_batch_size=16,\n",
    "    warmup_steps=250,\n",
    "    weight_decay=0.01,\n",
    "    #logging_dir='./logs',\n",
    "    load_best_model_at_end=True,\n",
    "    logging_steps=250,\n",
    "    save_steps=250,\n",
    "    fp16=True,\n",
    "    evaluation_strategy=\"steps\")\n",
    "\n",
    "trainer = Trainer(\n",
    "    model=bert_classifier.to('cuda:0'),\n",
    "    args=training_args,\n",
    "    train_dataset=train_dataset,\n",
    "    eval_dataset=valid_dataset,\n",
    "    compute_metrics=compute_metrics,\n",
    ")"
   ]
  },
  {
   "cell_type": "code",
   "execution_count": 12,
   "metadata": {},
   "outputs": [
    {
     "name": "stderr",
     "output_type": "stream",
     "text": [
      "/home/gleb/.cache/pypoetry/virtualenvs/mlposproj-r38FbfZE-py3.10/lib/python3.10/site-packages/transformers/optimization.py:411: FutureWarning: This implementation of AdamW is deprecated and will be removed in a future version. Use the PyTorch implementation torch.optim.AdamW instead, or set `no_deprecation_warning=True` to disable this warning\n",
      "  warnings.warn(\n",
      "/home/gleb/.cache/pypoetry/virtualenvs/mlposproj-r38FbfZE-py3.10/lib/python3.10/site-packages/torch/nn/parallel/data_parallel.py:32: UserWarning: \n",
      "    There is an imbalance between your GPUs. You may want to exclude GPU 1 which\n",
      "    has less than 75% of the memory or cores of GPU 0. You can do so by setting\n",
      "    the device_ids argument to DataParallel, or by setting the CUDA_VISIBLE_DEVICES\n",
      "    environment variable.\n",
      "  warnings.warn(imbalance_warn.format(device_ids[min_pos], device_ids[max_pos]))\n",
      "/home/gleb/.cache/pypoetry/virtualenvs/mlposproj-r38FbfZE-py3.10/lib/python3.10/site-packages/torch/nn/parallel/_functions.py:68: UserWarning: Was asked to gather along dimension 0, but all input tensors were scalars; will instead unsqueeze and return a vector.\n",
      "  warnings.warn('Was asked to gather along dimension 0, but all '\n"
     ]
    },
    {
     "data": {
      "text/html": [
       "\n",
       "    <div>\n",
       "      \n",
       "      <progress value='870' max='870' style='width:300px; height:20px; vertical-align: middle;'></progress>\n",
       "      [870/870 14:45, Epoch 10/10]\n",
       "    </div>\n",
       "    <table border=\"1\" class=\"dataframe\">\n",
       "  <thead>\n",
       " <tr style=\"text-align: left;\">\n",
       "      <th>Step</th>\n",
       "      <th>Training Loss</th>\n",
       "      <th>Validation Loss</th>\n",
       "      <th>F1 macro</th>\n",
       "    </tr>\n",
       "  </thead>\n",
       "  <tbody>\n",
       "    <tr>\n",
       "      <td>250</td>\n",
       "      <td>0.961900</td>\n",
       "      <td>0.891217</td>\n",
       "      <td>0.397461</td>\n",
       "    </tr>\n",
       "    <tr>\n",
       "      <td>500</td>\n",
       "      <td>0.637700</td>\n",
       "      <td>1.353188</td>\n",
       "      <td>0.484726</td>\n",
       "    </tr>\n",
       "    <tr>\n",
       "      <td>750</td>\n",
       "      <td>0.210700</td>\n",
       "      <td>2.059117</td>\n",
       "      <td>0.473366</td>\n",
       "    </tr>\n",
       "  </tbody>\n",
       "</table><p>"
      ],
      "text/plain": [
       "<IPython.core.display.HTML object>"
      ]
     },
     "metadata": {},
     "output_type": "display_data"
    },
    {
     "name": "stderr",
     "output_type": "stream",
     "text": [
      "/home/gleb/.cache/pypoetry/virtualenvs/mlposproj-r38FbfZE-py3.10/lib/python3.10/site-packages/torch/nn/parallel/_functions.py:68: UserWarning: Was asked to gather along dimension 0, but all input tensors were scalars; will instead unsqueeze and return a vector.\n",
      "  warnings.warn('Was asked to gather along dimension 0, but all '\n",
      "/home/gleb/.cache/pypoetry/virtualenvs/mlposproj-r38FbfZE-py3.10/lib/python3.10/site-packages/torch/nn/parallel/data_parallel.py:32: UserWarning: \n",
      "    There is an imbalance between your GPUs. You may want to exclude GPU 1 which\n",
      "    has less than 75% of the memory or cores of GPU 0. You can do so by setting\n",
      "    the device_ids argument to DataParallel, or by setting the CUDA_VISIBLE_DEVICES\n",
      "    environment variable.\n",
      "  warnings.warn(imbalance_warn.format(device_ids[min_pos], device_ids[max_pos]))\n",
      "/home/gleb/.cache/pypoetry/virtualenvs/mlposproj-r38FbfZE-py3.10/lib/python3.10/site-packages/torch/nn/parallel/_functions.py:68: UserWarning: Was asked to gather along dimension 0, but all input tensors were scalars; will instead unsqueeze and return a vector.\n",
      "  warnings.warn('Was asked to gather along dimension 0, but all '\n",
      "/home/gleb/.cache/pypoetry/virtualenvs/mlposproj-r38FbfZE-py3.10/lib/python3.10/site-packages/torch/nn/parallel/data_parallel.py:32: UserWarning: \n",
      "    There is an imbalance between your GPUs. You may want to exclude GPU 1 which\n",
      "    has less than 75% of the memory or cores of GPU 0. You can do so by setting\n",
      "    the device_ids argument to DataParallel, or by setting the CUDA_VISIBLE_DEVICES\n",
      "    environment variable.\n",
      "  warnings.warn(imbalance_warn.format(device_ids[min_pos], device_ids[max_pos]))\n",
      "/home/gleb/.cache/pypoetry/virtualenvs/mlposproj-r38FbfZE-py3.10/lib/python3.10/site-packages/torch/nn/parallel/_functions.py:68: UserWarning: Was asked to gather along dimension 0, but all input tensors were scalars; will instead unsqueeze and return a vector.\n",
      "  warnings.warn('Was asked to gather along dimension 0, but all '\n"
     ]
    },
    {
     "data": {
      "text/plain": [
       "TrainOutput(global_step=870, training_loss=0.53196613048685, metrics={'train_runtime': 888.9212, 'train_samples_per_second': 31.038, 'train_steps_per_second': 0.979, 'total_flos': 7259299195115520.0, 'train_loss': 0.53196613048685, 'epoch': 10.0})"
      ]
     },
     "execution_count": 12,
     "metadata": {},
     "output_type": "execute_result"
    }
   ],
   "source": [
    "trainer.train()"
   ]
  },
  {
   "cell_type": "code",
   "execution_count": null,
   "metadata": {},
   "outputs": [],
   "source": []
  }
 ],
 "metadata": {
  "kernelspec": {
   "display_name": "mlposproj-r38FbfZE-py3.10",
   "language": "python",
   "name": "python3"
  },
  "language_info": {
   "codemirror_mode": {
    "name": "ipython",
    "version": 3
   },
   "file_extension": ".py",
   "mimetype": "text/x-python",
   "name": "python",
   "nbconvert_exporter": "python",
   "pygments_lexer": "ipython3",
   "version": "3.10.6"
  },
  "orig_nbformat": 4
 },
 "nbformat": 4,
 "nbformat_minor": 2
}
