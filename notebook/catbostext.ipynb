{
 "cells": [
  {
   "cell_type": "code",
   "execution_count": 6,
   "metadata": {},
   "outputs": [],
   "source": [
    "import numpy as np\n",
    "import pandas as pd \n",
    "\n",
    "from catboost import CatBoostClassifier, Pool, cv\n",
    "from sklearn.model_selection import train_test_split\n",
    "import catboost\n",
    "import optuna\n",
    "\n",
    "RANDOM_SEED = 121"
   ]
  },
  {
   "attachments": {},
   "cell_type": "markdown",
   "metadata": {},
   "source": [
    "Что попробовать: \n",
    "- эмбеддинги\n",
    "- optuna \n",
    "- новые фичи \n",
    "- убрать стоп слова "
   ]
  },
  {
   "cell_type": "code",
   "execution_count": 2,
   "metadata": {},
   "outputs": [],
   "source": [
    "df = pd.read_csv('../data/interim/df_text.csv')\n",
    "df = df[['text', 'level']]"
   ]
  },
  {
   "cell_type": "code",
   "execution_count": 3,
   "metadata": {},
   "outputs": [],
   "source": [
    "train_df, test_df = train_test_split(df, train_size=0.8, random_state=0)\n",
    "y_train, X_train = train_df['level'], train_df.drop(['level'], axis=1)\n",
    "y_test, X_test = test_df['level'], test_df.drop(['level'], axis=1)\n",
    "\n",
    "train_pool = Pool(data=X_train, label=y_train, text_features=['text'])\n",
    "test_pool = Pool(data=X_test, label=y_test, text_features=['text'])"
   ]
  },
  {
   "cell_type": "code",
   "execution_count": 4,
   "metadata": {},
   "outputs": [
    {
     "name": "stdout",
     "output_type": "stream",
     "text": [
      "Training on fold [0/5]\n",
      "0:\tlearn: 0.5099637\ttest: 0.4585734\tbest: 0.4585734 (0)\ttotal: 16.7ms\tremaining: 2m 46s\n",
      "200:\tlearn: 0.8899296\ttest: 0.5686095\tbest: 0.5697143 (194)\ttotal: 2.26s\tremaining: 1m 50s\n",
      "400:\tlearn: 0.9616037\ttest: 0.5501817\tbest: 0.5724553 (286)\ttotal: 4.48s\tremaining: 1m 47s\n",
      "bestTest = 0.5724553017\n",
      "bestIteration = 286\n",
      "Training on fold [1/5]\n",
      "0:\tlearn: 0.5453920\ttest: 0.5439223\tbest: 0.5439223 (0)\ttotal: 16.1ms\tremaining: 2m 40s\n",
      "200:\tlearn: 0.8862911\ttest: 0.5654005\tbest: 0.5854475 (168)\ttotal: 2.23s\tremaining: 1m 48s\n",
      "bestTest = 0.5854474593\n",
      "bestIteration = 168\n",
      "Training on fold [2/5]\n",
      "0:\tlearn: 0.5190278\ttest: 0.4806253\tbest: 0.4806253 (0)\ttotal: 15.3ms\tremaining: 2m 32s\n",
      "200:\tlearn: 0.8871758\ttest: 0.5308642\tbest: 0.5438507 (175)\ttotal: 2.22s\tremaining: 1m 48s\n",
      "bestTest = 0.5438507278\n",
      "bestIteration = 175\n",
      "Training on fold [3/5]\n",
      "0:\tlearn: 0.5297759\ttest: 0.5171473\tbest: 0.5171473 (0)\ttotal: 16.6ms\tremaining: 2m 46s\n",
      "200:\tlearn: 0.8898671\ttest: 0.5434841\tbest: 0.5767220 (83)\ttotal: 2.29s\tremaining: 1m 51s\n",
      "bestTest = 0.576722043\n",
      "bestIteration = 83\n",
      "Training on fold [4/5]\n",
      "0:\tlearn: 0.5231473\ttest: 0.4606707\tbest: 0.4606707 (0)\ttotal: 16.2ms\tremaining: 2m 41s\n",
      "200:\tlearn: 0.8884523\ttest: 0.5058168\tbest: 0.5130306 (108)\ttotal: 2.24s\tremaining: 1m 49s\n",
      "400:\tlearn: 0.9660260\ttest: 0.4683815\tbest: 0.5174368 (215)\ttotal: 4.48s\tremaining: 1m 47s\n",
      "bestTest = 0.5174367646\n",
      "bestIteration = 215\n",
      "Лучшая метрика: 0.5459000829016657\n",
      "Лучшая итерация: 230\n"
     ]
    }
   ],
   "source": [
    "def fit_model_cv(train_pool):\n",
    "    model = cv(\n",
    "        pool=train_pool,\n",
    "        params={'iterations':10000,\n",
    "        'learning_rate':0.05, \n",
    "        'eval_metric':'TotalF1',\n",
    "        'task_type':'GPU',\n",
    "        'loss_function':'MultiClass', \n",
    "        'devices':[0, 1], \n",
    "        'auto_class_weights':'Balanced', \n",
    "        'l2_leaf_reg':11, \n",
    "        'random_seed':1        \n",
    "        },\n",
    "        return_models=True,\n",
    "        stratified=True, \n",
    "        early_stopping_rounds=200,\n",
    "        fold_count=5, \n",
    "        verbose=200\n",
    "\n",
    "    )\n",
    "    print(\"Лучшая метрика:\", model[0]['test-TotalF1-mean'].max())\n",
    "    print(\"Лучшая итерация:\", np.argmax(model[0]['test-TotalF1-mean']))\n",
    "\n",
    "\n",
    "fit_model_cv(train_pool)"
   ]
  },
  {
   "attachments": {},
   "cell_type": "markdown",
   "metadata": {},
   "source": [
    "10 \n",
    "Лучшая метрика: 0.5525073863678922\n",
    "Лучшая итерация: 168\n",
    "\n"
   ]
  },
  {
   "attachments": {},
   "cell_type": "markdown",
   "metadata": {},
   "source": [
    "https://www.youtube.com/watch?v=lB0WYoz5nU4"
   ]
  },
  {
   "cell_type": "code",
   "execution_count": 5,
   "metadata": {},
   "outputs": [],
   "source": [
    "# OPTUNA"
   ]
  },
  {
   "cell_type": "code",
   "execution_count": 19,
   "metadata": {},
   "outputs": [],
   "source": [
    "best_iter, best_score = None, float('-inf')\n",
    "def objective(trial):\n",
    "    global best_iter, best_score\n",
    "\n",
    "    param = {'iterations':10000,\n",
    "             'early_stopping_rounds':300,\n",
    "             'task_type':'GPU', \n",
    "             'devices':'0',\n",
    "             'eval_metric':'TotalF1',\n",
    "             'loss_function':'MultiClass', \n",
    "             'random_seed':RANDOM_SEED,\n",
    "             'learning_rate': trial.suggest_float(\"learning_rate\", 0.001, 0.01), \n",
    "             \"l2_leaf_reg\": trial.suggest_int(\"l2_leaf_reg\", 2, 50), \n",
    "             #\"colsample_bylevel\": trial.suggest_float(\"colsample_bylevel\", 0.01, 0.8), \n",
    "             \"auto_class_weights\": trial.suggest_categorical(\"auto_class_weights\", [\"SqrtBalanced\", \"Balanced\", \"None\"]),\n",
    "             \"depth\": trial.suggest_int(\"depth\", 3, 9),\n",
    "             \"bootstrap_type\": trial.suggest_categorical(\"bootstrap_type\", [\"Bayesian\", \"Bernoulli\"]),\n",
    "             'eval_metric':'TotalF1', \n",
    "             }\n",
    "\n",
    "    if param[\"bootstrap_type\"] == \"Bayesian\":\n",
    "        param[\"bagging_temperature\"] = trial.suggest_float(\"bagging_temperature\", 0, 20)\n",
    "        \n",
    "    elif param[\"bootstrap_type\"] == \"Bernoulli\":\n",
    "        param[\"subsample\"] = trial.suggest_float(\"subsample\", 0.1, 1)\n",
    "    \n",
    "    stat = cv(\n",
    "        pool=train_pool,\n",
    "        params=param,\n",
    "        stratified=True,\n",
    "        early_stopping_rounds=300,\n",
    "        fold_count=5, \n",
    "        logging_level=\"Silent\"\n",
    "    )\n",
    "    score = stat['test-TotalF1-mean'].max()\n",
    "    iterations = np.argmax(stat['test-TotalF1-mean'])\n",
    "    if score > best_score:\n",
    "        best_score = score\n",
    "        best_iter = iterations\n",
    "    return score\n",
    "    "
   ]
  },
  {
   "cell_type": "code",
   "execution_count": 20,
   "metadata": {},
   "outputs": [
    {
     "name": "stderr",
     "output_type": "stream",
     "text": [
      "[I 2023-06-23 19:02:28,603] A new study created in memory with name: no-name-6b53c520-6bac-4c4c-af49-c613613d1707\n"
     ]
    },
    {
     "data": {
      "application/vnd.jupyter.widget-view+json": {
       "model_id": "45d7f629ec4e4993b56cafbfbf2ca78a",
       "version_major": 2,
       "version_minor": 0
      },
      "text/plain": [
       "  0%|          | 0/30 [00:00<?, ?it/s]"
      ]
     },
     "metadata": {},
     "output_type": "display_data"
    },
    {
     "name": "stdout",
     "output_type": "stream",
     "text": [
      "[I 2023-06-23 19:07:37,917] Trial 0 finished with value: 0.5064561450829568 and parameters: {'learning_rate': 0.0072797364586489844, 'l2_leaf_reg': 25, 'auto_class_weights': 'Balanced', 'depth': 9, 'bootstrap_type': 'Bernoulli', 'subsample': 0.6266089240922291}. Best is trial 0 with value: 0.5064561450829568.\n",
      "[I 2023-06-23 19:12:29,370] Trial 1 finished with value: 0.5325872152131108 and parameters: {'learning_rate': 0.008163246587783984, 'l2_leaf_reg': 5, 'auto_class_weights': 'None', 'depth': 4, 'bootstrap_type': 'Bernoulli', 'subsample': 0.1645913082321564}. Best is trial 1 with value: 0.5325872152131108.\n",
      "[I 2023-06-23 19:17:31,155] Trial 2 finished with value: 0.5106902453569023 and parameters: {'learning_rate': 0.007697202710883541, 'l2_leaf_reg': 31, 'auto_class_weights': 'SqrtBalanced', 'depth': 8, 'bootstrap_type': 'Bernoulli', 'subsample': 0.18131701995921673}. Best is trial 1 with value: 0.5325872152131108.\n",
      "[I 2023-06-23 19:22:51,606] Trial 3 finished with value: 0.527978338739717 and parameters: {'learning_rate': 0.007961819342664975, 'l2_leaf_reg': 27, 'auto_class_weights': 'Balanced', 'depth': 7, 'bootstrap_type': 'Bayesian', 'bagging_temperature': 14.74214742984228}. Best is trial 1 with value: 0.5325872152131108.\n",
      "[I 2023-06-23 19:27:53,691] Trial 4 finished with value: 0.5152111537119108 and parameters: {'learning_rate': 0.008706732539840103, 'l2_leaf_reg': 42, 'auto_class_weights': 'Balanced', 'depth': 4, 'bootstrap_type': 'Bayesian', 'bagging_temperature': 6.887213837239985}. Best is trial 1 with value: 0.5325872152131108.\n",
      "[I 2023-06-23 19:33:04,448] Trial 5 finished with value: 0.5398904677802329 and parameters: {'learning_rate': 0.009319763722269763, 'l2_leaf_reg': 2, 'auto_class_weights': 'None', 'depth': 8, 'bootstrap_type': 'Bernoulli', 'subsample': 0.8042561780140605}. Best is trial 5 with value: 0.5398904677802329.\n"
     ]
    },
    {
     "ename": "",
     "evalue": "",
     "output_type": "error",
     "traceback": [
      "\u001b[1;31mCannot execute code, session has been disposed. Please try restarting the Kernel."
     ]
    },
    {
     "ename": "",
     "evalue": "",
     "output_type": "error",
     "traceback": [
      "\u001b[1;31mThe Kernel crashed while executing code in the the current cell or a previous cell. Please review the code in the cell(s) to identify a possible cause of the failure. Click <a href='https://aka.ms/vscodeJupyterKernelCrash'>here</a> for more info. View Jupyter <a href='command:jupyter.viewOutput'>log</a> for further details."
     ]
    }
   ],
   "source": [
    "study = optuna.create_study(direction=\"maximize\")\n",
    "study.optimize(objective, n_trials=30, show_progress_bar=True)\n",
    "print(\"Number of finished trials: {}\".format(len(study.trials)))\n",
    "\n",
    "print(\"Best trial:\")\n",
    "trial = study.best_trial\n",
    "\n",
    "print(\"  Value: {}\".format(trial.value))\n",
    "\n",
    "print(\"  Params: \")\n",
    "for key, value in trial.params.items():\n",
    "    print(\"    {}: {}\".format(key, value))"
   ]
  },
  {
   "cell_type": "code",
   "execution_count": null,
   "metadata": {},
   "outputs": [],
   "source": []
  }
 ],
 "metadata": {
  "kernelspec": {
   "display_name": "mlposproj-V8n6PMXn-py3.10",
   "language": "python",
   "name": "python3"
  },
  "language_info": {
   "codemirror_mode": {
    "name": "ipython",
    "version": 3
   },
   "file_extension": ".py",
   "mimetype": "text/x-python",
   "name": "python",
   "nbconvert_exporter": "python",
   "pygments_lexer": "ipython3",
   "version": "3.10.6"
  },
  "orig_nbformat": 4
 },
 "nbformat": 4,
 "nbformat_minor": 2
}
