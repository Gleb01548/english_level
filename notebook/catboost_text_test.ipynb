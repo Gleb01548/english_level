{
 "cells": [
  {
   "cell_type": "code",
   "execution_count": 21,
   "metadata": {},
   "outputs": [
    {
     "name": "stdout",
     "output_type": "stream",
     "text": [
      "INFO: Pandarallel will run on 32 workers.\n",
      "INFO: Pandarallel will use Memory file system to transfer data between the main process and workers.\n"
     ]
    },
    {
     "name": "stderr",
     "output_type": "stream",
     "text": [
      "[nltk_data] Downloading package punkt to /home/gleb/nltk_data...\n",
      "[nltk_data]   Package punkt is already up-to-date!\n"
     ]
    }
   ],
   "source": [
    "import numpy as np\n",
    "import pandas as pd \n",
    "\n",
    "from catboost import CatBoostClassifier, Pool, cv\n",
    "from sklearn.model_selection import train_test_split, KFold\n",
    "from sklearn.metrics import f1_score, accuracy_score, precision_score, auc\n",
    "import catboost\n",
    "import optuna\n",
    "import nltk\n",
    "from nltk.tokenize import sent_tokenize, word_tokenize\n",
    "from nltk.corpus import stopwords\n",
    "from nltk.stem import PorterStemmer, WordNetLemmatizer\n",
    "from pandarallel import pandarallel\n",
    "\n",
    "RANDOM_SEED = 121\n",
    "\n",
    "nltk.download('punkt')\n",
    "stop_words = stopwords.words('english')\n",
    "\n",
    "pandarallel.initialize(progress_bar=False)"
   ]
  },
  {
   "attachments": {},
   "cell_type": "markdown",
   "metadata": {},
   "source": [
    "## Catboost + text_features"
   ]
  },
  {
   "cell_type": "code",
   "execution_count": 19,
   "metadata": {},
   "outputs": [
    {
     "data": {
      "text/html": [
       "<div>\n",
       "<style scoped>\n",
       "    .dataframe tbody tr th:only-of-type {\n",
       "        vertical-align: middle;\n",
       "    }\n",
       "\n",
       "    .dataframe tbody tr th {\n",
       "        vertical-align: top;\n",
       "    }\n",
       "\n",
       "    .dataframe thead th {\n",
       "        text-align: right;\n",
       "    }\n",
       "</style>\n",
       "<table border=\"1\" class=\"dataframe\">\n",
       "  <thead>\n",
       "    <tr style=\"text-align: right;\">\n",
       "      <th></th>\n",
       "      <th>name</th>\n",
       "      <th>file_name</th>\n",
       "      <th>num_file</th>\n",
       "      <th>level</th>\n",
       "      <th>text</th>\n",
       "      <th>stemmer</th>\n",
       "      <th>lemm</th>\n",
       "      <th>no_stop</th>\n",
       "      <th>stop_stremm</th>\n",
       "      <th>stop_lemm</th>\n",
       "    </tr>\n",
       "  </thead>\n",
       "  <tbody>\n",
       "    <tr>\n",
       "      <th>1206</th>\n",
       "      <td>Lifeforce</td>\n",
       "      <td>Lifeforce.Eng.srt</td>\n",
       "      <td>False</td>\n",
       "      <td>middle</td>\n",
       "      <td>August 9, 2:30 p.m.Greenwich Mean Time. The H....</td>\n",
       "      <td>august 9 , 2:30 p.m.greenwich mean time . the ...</td>\n",
       "      <td>August 9 , 2:30 p.m.Greenwich Mean Time . The ...</td>\n",
       "      <td>August 9 , 2:30 p.m.Greenwich Mean Time . The ...</td>\n",
       "      <td>august 9 , 2:30 p.m.greenwich mean time . the ...</td>\n",
       "      <td>August 9, 2:30 p.m.Greenwich Mean Time. The H....</td>\n",
       "    </tr>\n",
       "  </tbody>\n",
       "</table>\n",
       "</div>"
      ],
      "text/plain": [
       "           name          file_name  num_file   level  \\\n",
       "1206  Lifeforce  Lifeforce.Eng.srt     False  middle   \n",
       "\n",
       "                                                   text  \\\n",
       "1206  August 9, 2:30 p.m.Greenwich Mean Time. The H....   \n",
       "\n",
       "                                                stemmer  \\\n",
       "1206  august 9 , 2:30 p.m.greenwich mean time . the ...   \n",
       "\n",
       "                                                   lemm  \\\n",
       "1206  August 9 , 2:30 p.m.Greenwich Mean Time . The ...   \n",
       "\n",
       "                                                no_stop  \\\n",
       "1206  August 9 , 2:30 p.m.Greenwich Mean Time . The ...   \n",
       "\n",
       "                                            stop_stremm  \\\n",
       "1206  august 9 , 2:30 p.m.greenwich mean time . the ...   \n",
       "\n",
       "                                              stop_lemm  \n",
       "1206  August 9, 2:30 p.m.Greenwich Mean Time. The H....  "
      ]
     },
     "execution_count": 19,
     "metadata": {},
     "output_type": "execute_result"
    }
   ],
   "source": [
    "df = pd.read_csv('../data/interim/df_preprocessed_text.csv')\n",
    "df.sample(1)"
   ]
  },
  {
   "cell_type": "code",
   "execution_count": 20,
   "metadata": {},
   "outputs": [],
   "source": [
    "train_df, test_df = train_test_split(df, train_size=0.8, random_state=0)\n",
    "y_train, X_train = train_df['level'], train_df.drop(['level'], axis=1)\n",
    "y_test, X_test = test_df['level'], test_df.drop(['level'], axis=1)"
   ]
  },
  {
   "cell_type": "code",
   "execution_count": null,
   "metadata": {},
   "outputs": [],
   "source": [
    "N_SPLITS = 5\n",
    "\n",
    "def train_cv(cols:str):\n",
    "    kf = KFold(n_splits=N_SPLITS)\n",
    "    cat_text_preds = pd.DataFrame(0, index=np.arange(y_test.shape[0]), columns=['label'])\n",
    "\n",
    "    i = 0\n",
    "    for train_fold, val_fold in kf.split(X_train):\n",
    "        cat = CatBoostClassifier(task_type=\"GPU\",\n",
    "                            devices='0',\n",
    "                            iterations=10000,\n",
    "                            early_stopping_rounds=100,\n",
    "                            loss_function='Logloss',\n",
    "                            eval_metric=\"F1\",\n",
    "                            random_seed=RANDOM_SEED,\n",
    "                            verbose = 0)\n",
    "        \n",
    "        train_dataset = Pool(data=X_train.iloc[train_fold][cols],\n",
    "                        label=X_train.iloc[train_fold]['label'],\n",
    "                        text_features=cols,\n",
    "                        )\n",
    "\n",
    "        eval_dataset = Pool(data=X_train.iloc[val_fold][cols],\n",
    "                        label=X_train.iloc[val_fold]['label'],\n",
    "                        text_features=cols,\n",
    "                        )\n",
    "        \n",
    "        fit_model = cat.fit(train_dataset,\n",
    "                            eval_set=eval_dataset,\n",
    "                            use_best_model=True,\n",
    "                            plot=False)\n",
    "\n",
    "        cat_text_preds['label'] += fit_model.predict_proba(X_test[cols]).T[0] / N_SPLITS # probs of ai text\n",
    "\n",
    "        f1_people = f1_score(X_train.iloc[val_fold]['label'], fit_model.predict(X_train.iloc[val_fold][cols]), pos_label=0)\n",
    "        f1_ai = f1_score(X_train.iloc[val_fold]['label'], fit_model.predict(X_train.iloc[val_fold][cols]), pos_label=1)\n",
    "\n",
    "        print(f'fold: {i + 1} f1 people score: {f1_people}')\n",
    "        print(f'fold: {i + 1} f1 ai score: {f1_ai}')\n",
    "        print()\n",
    "        i += 1"
   ]
  },
  {
   "cell_type": "code",
   "execution_count": 15,
   "metadata": {},
   "outputs": [],
   "source": [
    "def fit_model_cv(X_train, y_train, text_type):\n",
    "    train_pool = Pool(data=X_train[[text_type]], label=y_train, text_features=[text_type])\n",
    "    model = cv(\n",
    "        pool=train_pool,\n",
    "        params={'iterations':10000,\n",
    "        'learning_rate':0.05, \n",
    "        'eval_metric':'TotalF1',\n",
    "        'task_type':'GPU',\n",
    "        'loss_function':'MultiClass', \n",
    "        'devices':[0, 1], \n",
    "        'auto_class_weights':'Balanced', \n",
    "        'l2_leaf_reg':11, \n",
    "        'random_seed':1        \n",
    "        },\n",
    "        return_models=True,\n",
    "        stratified=True, \n",
    "        early_stopping_rounds=200,\n",
    "        fold_count=5, \n",
    "        verbose=200\n",
    "\n",
    "    )\n",
    "    print(\"Лучшая метрика:\", model[0]['test-TotalF1-mean'].max())\n",
    "    print(\"Лучшая итерация:\", np.argmax(model[0]['test-TotalF1-mean']))"
   ]
  },
  {
   "cell_type": "code",
   "execution_count": 16,
   "metadata": {},
   "outputs": [
    {
     "name": "stdout",
     "output_type": "stream",
     "text": [
      "Training on fold [0/5]\n",
      "0:\tlearn: 0.5099637\ttest: 0.4585734\tbest: 0.4585734 (0)\ttotal: 16ms\tremaining: 2m 40s\n",
      "200:\tlearn: 0.8899296\ttest: 0.5686095\tbest: 0.5697143 (194)\ttotal: 2.27s\tremaining: 1m 50s\n",
      "400:\tlearn: 0.9616037\ttest: 0.5501817\tbest: 0.5724553 (286)\ttotal: 4.47s\tremaining: 1m 47s\n",
      "bestTest = 0.5724553017\n",
      "bestIteration = 286\n",
      "Training on fold [1/5]\n",
      "0:\tlearn: 0.5453920\ttest: 0.5439223\tbest: 0.5439223 (0)\ttotal: 17.1ms\tremaining: 2m 51s\n",
      "200:\tlearn: 0.8862911\ttest: 0.5654005\tbest: 0.5854475 (168)\ttotal: 2.25s\tremaining: 1m 49s\n",
      "bestTest = 0.5854474593\n",
      "bestIteration = 168\n",
      "Training on fold [2/5]\n",
      "0:\tlearn: 0.5190278\ttest: 0.4806253\tbest: 0.4806253 (0)\ttotal: 17.5ms\tremaining: 2m 54s\n",
      "200:\tlearn: 0.8871758\ttest: 0.5308642\tbest: 0.5438507 (175)\ttotal: 2.28s\tremaining: 1m 51s\n",
      "bestTest = 0.5438507278\n",
      "bestIteration = 175\n",
      "Training on fold [3/5]\n",
      "0:\tlearn: 0.5297759\ttest: 0.5171473\tbest: 0.5171473 (0)\ttotal: 18.4ms\tremaining: 3m 3s\n",
      "200:\tlearn: 0.8898671\ttest: 0.5434841\tbest: 0.5767220 (83)\ttotal: 2.3s\tremaining: 1m 52s\n",
      "bestTest = 0.576722043\n",
      "bestIteration = 83\n",
      "Training on fold [4/5]\n",
      "0:\tlearn: 0.5231473\ttest: 0.4606707\tbest: 0.4606707 (0)\ttotal: 16.4ms\tremaining: 2m 44s\n",
      "200:\tlearn: 0.8884523\ttest: 0.5058168\tbest: 0.5130306 (108)\ttotal: 2.25s\tremaining: 1m 49s\n",
      "400:\tlearn: 0.9660260\ttest: 0.4683815\tbest: 0.5174368 (215)\ttotal: 4.54s\tremaining: 1m 48s\n",
      "bestTest = 0.5174367646\n",
      "bestIteration = 215\n",
      "Лучшая метрика: 0.5459000829016657\n",
      "Лучшая итерация: 230\n"
     ]
    }
   ],
   "source": [
    "fit_model_cv(X_train, y_train, 'text')"
   ]
  },
  {
   "cell_type": "code",
   "execution_count": 13,
   "metadata": {},
   "outputs": [
    {
     "name": "stdout",
     "output_type": "stream",
     "text": [
      "Training on fold [0/5]\n",
      "0:\tlearn: 0.5539891\ttest: 0.5028208\tbest: 0.5028208 (0)\ttotal: 18.5ms\tremaining: 3m 4s\n",
      "200:\tlearn: 0.8776290\ttest: 0.5369169\tbest: 0.5479881 (148)\ttotal: 2.28s\tremaining: 1m 51s\n",
      "bestTest = 0.5479880834\n",
      "bestIteration = 148\n",
      "Training on fold [1/5]\n",
      "0:\tlearn: 0.5536109\ttest: 0.5056391\tbest: 0.5056391 (0)\ttotal: 17.5ms\tremaining: 2m 54s\n",
      "200:\tlearn: 0.8813434\ttest: 0.5646822\tbest: 0.5831916 (105)\ttotal: 2.31s\tremaining: 1m 52s\n",
      "bestTest = 0.5831915905\n",
      "bestIteration = 105\n",
      "Training on fold [2/5]\n",
      "0:\tlearn: 0.5452097\ttest: 0.4567324\tbest: 0.4567324 (0)\ttotal: 17.3ms\tremaining: 2m 52s\n",
      "200:\tlearn: 0.8820308\ttest: 0.5255613\tbest: 0.5308645 (124)\ttotal: 2.26s\tremaining: 1m 50s\n",
      "400:\tlearn: 0.9636607\ttest: 0.5468354\tbest: 0.5526283 (383)\ttotal: 4.5s\tremaining: 1m 47s\n",
      "bestTest = 0.5526283272\n",
      "bestIteration = 383\n",
      "Training on fold [3/5]\n",
      "0:\tlearn: 0.5237357\ttest: 0.5272818\tbest: 0.5272818 (0)\ttotal: 16.8ms\tremaining: 2m 48s\n",
      "200:\tlearn: 0.8788244\ttest: 0.5516576\tbest: 0.5867393 (2)\ttotal: 2.28s\tremaining: 1m 50s\n",
      "bestTest = 0.5867392734\n",
      "bestIteration = 2\n",
      "Training on fold [4/5]\n",
      "0:\tlearn: 0.5703660\ttest: 0.4400660\tbest: 0.4400660 (0)\ttotal: 18.4ms\tremaining: 3m 4s\n",
      "200:\tlearn: 0.8686930\ttest: 0.4976312\tbest: 0.5043126 (104)\ttotal: 2.23s\tremaining: 1m 48s\n",
      "bestTest = 0.5043126189\n",
      "bestIteration = 104\n",
      "Лучшая метрика: 0.5421743713104428\n",
      "Лучшая итерация: 126\n"
     ]
    }
   ],
   "source": [
    "fit_model_cv(X_train, y_train, 'no_stop')"
   ]
  },
  {
   "cell_type": "code",
   "execution_count": 14,
   "metadata": {},
   "outputs": [
    {
     "name": "stdout",
     "output_type": "stream",
     "text": [
      "Training on fold [0/5]\n",
      "0:\tlearn: 0.5771473\ttest: 0.4978142\tbest: 0.4978142 (0)\ttotal: 18.3ms\tremaining: 3m 2s\n",
      "200:\tlearn: 0.8612893\ttest: 0.5209445\tbest: 0.5447671 (19)\ttotal: 2.33s\tremaining: 1m 53s\n",
      "bestTest = 0.5447671046\n",
      "bestIteration = 19\n",
      "Training on fold [1/5]\n",
      "0:\tlearn: 0.5489092\ttest: 0.5164864\tbest: 0.5164864 (0)\ttotal: 18.3ms\tremaining: 3m 3s\n",
      "200:\tlearn: 0.8657672\ttest: 0.5386677\tbest: 0.5815575 (80)\ttotal: 2.32s\tremaining: 1m 53s\n",
      "bestTest = 0.5815575184\n",
      "bestIteration = 80\n",
      "Training on fold [2/5]\n",
      "0:\tlearn: 0.5410596\ttest: 0.4889278\tbest: 0.4889278 (0)\ttotal: 18.5ms\tremaining: 3m 5s\n",
      "200:\tlearn: 0.8621097\ttest: 0.5233212\tbest: 0.5399565 (109)\ttotal: 2.27s\tremaining: 1m 50s\n",
      "bestTest = 0.5399565447\n",
      "bestIteration = 109\n",
      "Training on fold [3/5]\n",
      "0:\tlearn: 0.5592966\ttest: 0.5464583\tbest: 0.5464583 (0)\ttotal: 17.3ms\tremaining: 2m 52s\n",
      "200:\tlearn: 0.8703126\ttest: 0.5601667\tbest: 0.6076001 (55)\ttotal: 2.35s\tremaining: 1m 54s\n",
      "bestTest = 0.6076000659\n",
      "bestIteration = 55\n",
      "Training on fold [4/5]\n",
      "0:\tlearn: 0.5465571\ttest: 0.4898906\tbest: 0.4898906 (0)\ttotal: 19.9ms\tremaining: 3m 19s\n",
      "200:\tlearn: 0.8656218\ttest: 0.4893726\tbest: 0.5117743 (165)\ttotal: 2.32s\tremaining: 1m 52s\n",
      "bestTest = 0.5117742524\n",
      "bestIteration = 165\n",
      "Лучшая метрика: 0.5471443262245677\n",
      "Лучшая итерация: 75\n"
     ]
    }
   ],
   "source": [
    "fit_model_cv(X_train, y_train, 'stemmer')"
   ]
  },
  {
   "cell_type": "code",
   "execution_count": 15,
   "metadata": {},
   "outputs": [
    {
     "name": "stdout",
     "output_type": "stream",
     "text": [
      "Training on fold [0/5]\n",
      "0:\tlearn: 0.5539891\ttest: 0.5028208\tbest: 0.5028208 (0)\ttotal: 17.9ms\tremaining: 2m 58s\n",
      "200:\tlearn: 0.8776290\ttest: 0.5369169\tbest: 0.5479881 (148)\ttotal: 2.37s\tremaining: 1m 55s\n",
      "bestTest = 0.5479880834\n",
      "bestIteration = 148\n",
      "Training on fold [1/5]\n",
      "0:\tlearn: 0.5536109\ttest: 0.5056391\tbest: 0.5056391 (0)\ttotal: 18.2ms\tremaining: 3m 1s\n",
      "200:\tlearn: 0.8813434\ttest: 0.5646822\tbest: 0.5831916 (105)\ttotal: 2.25s\tremaining: 1m 49s\n",
      "bestTest = 0.5831915905\n",
      "bestIteration = 105\n",
      "Training on fold [2/5]\n",
      "0:\tlearn: 0.5452097\ttest: 0.4567324\tbest: 0.4567324 (0)\ttotal: 18.4ms\tremaining: 3m 4s\n",
      "200:\tlearn: 0.8820308\ttest: 0.5255613\tbest: 0.5308645 (124)\ttotal: 2.27s\tremaining: 1m 50s\n",
      "400:\tlearn: 0.9636607\ttest: 0.5468354\tbest: 0.5526283 (383)\ttotal: 4.46s\tremaining: 1m 46s\n",
      "bestTest = 0.5526283272\n",
      "bestIteration = 383\n",
      "Training on fold [3/5]\n",
      "0:\tlearn: 0.5237357\ttest: 0.5272818\tbest: 0.5272818 (0)\ttotal: 16.2ms\tremaining: 2m 42s\n",
      "200:\tlearn: 0.8788244\ttest: 0.5516576\tbest: 0.5867393 (2)\ttotal: 2.29s\tremaining: 1m 51s\n",
      "bestTest = 0.5867392734\n",
      "bestIteration = 2\n",
      "Training on fold [4/5]\n",
      "0:\tlearn: 0.5703660\ttest: 0.4400660\tbest: 0.4400660 (0)\ttotal: 17.7ms\tremaining: 2m 56s\n",
      "200:\tlearn: 0.8686930\ttest: 0.4976312\tbest: 0.5043126 (104)\ttotal: 2.24s\tremaining: 1m 49s\n",
      "bestTest = 0.5043126189\n",
      "bestIteration = 104\n",
      "Лучшая метрика: 0.5421743713104428\n",
      "Лучшая итерация: 126\n"
     ]
    }
   ],
   "source": [
    "fit_model_cv(X_train, y_train, 'lemm')"
   ]
  },
  {
   "cell_type": "code",
   "execution_count": 16,
   "metadata": {},
   "outputs": [
    {
     "name": "stdout",
     "output_type": "stream",
     "text": [
      "Training on fold [0/5]\n",
      "0:\tlearn: 0.5099637\ttest: 0.4585734\tbest: 0.4585734 (0)\ttotal: 16ms\tremaining: 2m 40s\n",
      "200:\tlearn: 0.8899296\ttest: 0.5686095\tbest: 0.5697143 (194)\ttotal: 2.3s\tremaining: 1m 52s\n",
      "400:\tlearn: 0.9616037\ttest: 0.5501817\tbest: 0.5724553 (286)\ttotal: 4.51s\tremaining: 1m 47s\n",
      "bestTest = 0.5724553017\n",
      "bestIteration = 286\n",
      "Training on fold [1/5]\n",
      "0:\tlearn: 0.5453920\ttest: 0.5439223\tbest: 0.5439223 (0)\ttotal: 16ms\tremaining: 2m 39s\n",
      "200:\tlearn: 0.8862911\ttest: 0.5654005\tbest: 0.5854475 (168)\ttotal: 2.23s\tremaining: 1m 48s\n",
      "bestTest = 0.5854474593\n",
      "bestIteration = 168\n",
      "Training on fold [2/5]\n",
      "0:\tlearn: 0.5190278\ttest: 0.4806253\tbest: 0.4806253 (0)\ttotal: 17.9ms\tremaining: 2m 58s\n",
      "200:\tlearn: 0.8871758\ttest: 0.5308642\tbest: 0.5438507 (175)\ttotal: 2.28s\tremaining: 1m 51s\n",
      "bestTest = 0.5438507278\n",
      "bestIteration = 175\n",
      "Training on fold [3/5]\n",
      "0:\tlearn: 0.5297759\ttest: 0.5171473\tbest: 0.5171473 (0)\ttotal: 16.3ms\tremaining: 2m 43s\n",
      "200:\tlearn: 0.8898671\ttest: 0.5434841\tbest: 0.5767220 (83)\ttotal: 2.33s\tremaining: 1m 53s\n",
      "bestTest = 0.576722043\n",
      "bestIteration = 83\n",
      "Training on fold [4/5]\n",
      "0:\tlearn: 0.5231473\ttest: 0.4606707\tbest: 0.4606707 (0)\ttotal: 15.5ms\tremaining: 2m 35s\n",
      "200:\tlearn: 0.8884523\ttest: 0.5058168\tbest: 0.5130306 (108)\ttotal: 2.32s\tremaining: 1m 52s\n",
      "400:\tlearn: 0.9660260\ttest: 0.4683815\tbest: 0.5174368 (215)\ttotal: 4.55s\tremaining: 1m 48s\n",
      "bestTest = 0.5174367646\n",
      "bestIteration = 215\n",
      "Лучшая метрика: 0.5459000829016657\n",
      "Лучшая итерация: 230\n"
     ]
    }
   ],
   "source": [
    "fit_model_cv(X_train, y_train, 'stop_lemm')"
   ]
  }
 ],
 "metadata": {
  "kernelspec": {
   "display_name": "mlposproj-r38FbfZE-py3.10",
   "language": "python",
   "name": "python3"
  },
  "language_info": {
   "codemirror_mode": {
    "name": "ipython",
    "version": 3
   },
   "file_extension": ".py",
   "mimetype": "text/x-python",
   "name": "python",
   "nbconvert_exporter": "python",
   "pygments_lexer": "ipython3",
   "version": "3.10.6"
  },
  "orig_nbformat": 4
 },
 "nbformat": 4,
 "nbformat_minor": 2
}
